{
 "cells": [
  {
   "cell_type": "code",
   "execution_count": 1,
   "metadata": {},
   "outputs": [],
   "source": [
    "path = '../Data/'"
   ]
  },
  {
   "cell_type": "code",
   "execution_count": 10,
   "metadata": {},
   "outputs": [],
   "source": [
    "with open(path + 'train.csv', 'r') as file:\n",
    "    i = 0\n",
    "    file_label = set()\n",
    "    for line in file:\n",
    "        ls = line.split(',')\n",
    "        file_label.add(ls[0] + '_' + ls[1])\n",
    "#         print (line)\n",
    "#         i += 1\n",
    "#         if i == 1000000:\n",
    "#             break"
   ]
  },
  {
   "cell_type": "code",
   "execution_count": 12,
   "metadata": {},
   "outputs": [
    {
     "data": {
      "text/plain": [
       "116625"
      ]
     },
     "execution_count": 12,
     "metadata": {},
     "output_type": "execute_result"
    }
   ],
   "source": [
    "len(file_label)"
   ]
  },
  {
   "cell_type": "code",
   "execution_count": 16,
   "metadata": {},
   "outputs": [
    {
     "data": {
      "text/plain": [
       "116625"
      ]
     },
     "execution_count": 16,
     "metadata": {},
     "output_type": "execute_result"
    }
   ],
   "source": [
    "len([fl.split('_')[0] for fl in file_label])"
   ]
  },
  {
   "cell_type": "code",
   "execution_count": 37,
   "metadata": {},
   "outputs": [],
   "source": [
    "label = [fl.split('_')[1] for fl in file_label]\n",
    "import pandas as pd\n",
    "label_series = pd.Series(label)"
   ]
  },
  {
   "cell_type": "code",
   "execution_count": 45,
   "metadata": {},
   "outputs": [
    {
     "data": {
      "text/plain": [
       "0    111545\n",
       "5      3397\n",
       "2       744\n",
       "3       598\n",
       "1       287\n",
       "4        53\n",
       "dtype: int64"
      ]
     },
     "execution_count": 45,
     "metadata": {},
     "output_type": "execute_result"
    }
   ],
   "source": [
    "label_counts = label_series.value_counts()\n",
    "label_counts = label_counts[label_counts.index != 'id']\n",
    "label_counts"
   ]
  },
  {
   "cell_type": "code",
   "execution_count": 48,
   "metadata": {},
   "outputs": [
    {
     "data": {
      "text/plain": [
       "5079"
      ]
     },
     "execution_count": 48,
     "metadata": {},
     "output_type": "execute_result"
    }
   ],
   "source": [
    "nagtive_sample_number = label_counts[label_counts.index != '0'].sum()\n",
    "nagtive_sample_number"
   ]
  },
  {
   "cell_type": "code",
   "execution_count": 4,
   "metadata": {},
   "outputs": [],
   "source": [
    "import numpy as np\n",
    "\n",
    "nagtive_sample_number = 5079\n",
    "positive_sample_ratio = nagtive_sample_number * 5 / 111545\n",
    "positive_sample_dict = {}\n",
    "with open(path + 'train_api_id.csv', 'r') as file, open(path + 'train_api_id_sample5.csv', 'w+') as output_file:\n",
    "    for line in file:\n",
    "        ls = line.split(',')\n",
    "        label = ls[1]\n",
    "        if label != '0':\n",
    "            output_file.write(line)\n",
    "        else:\n",
    "            file_id = ls[0]\n",
    "            if file_id not in positive_sample_dict:\n",
    "                positive_sample_dict[file_id] = np.random.rand() < positive_sample_ratio\n",
    "            if positive_sample_dict[file_id]:\n",
    "                output_file.write(line)"
   ]
  },
  {
   "cell_type": "code",
   "execution_count": 52,
   "metadata": {},
   "outputs": [
    {
     "name": "stdout",
     "output_type": "stream",
     "text": [
      "Total positive:  111545 Selected positive:  50851\n"
     ]
    }
   ],
   "source": [
    "print ('Total positive: ', len(positive_sample_dict), 'Selected positive: ', sum([i for i in positive_sample_dict.values()]))"
   ]
  },
  {
   "cell_type": "code",
   "execution_count": 55,
   "metadata": {},
   "outputs": [],
   "source": [
    "api_num = 0\n",
    "api_dict = dict()\n",
    "with open(path + 'train.csv', 'r') as file, open(path + 'apis.csv', 'w+') as output_file:\n",
    "    for line in file:\n",
    "        ls = line.split(',')\n",
    "        api = ls[2]\n",
    "        if api not in api_dict:\n",
    "            api_dict[api] = api_num\n",
    "            api_str = api + ',' + str(api_num)\n",
    "            output_file.write(api_str)\n",
    "            api_num += 1"
   ]
  },
  {
   "cell_type": "code",
   "execution_count": 87,
   "metadata": {},
   "outputs": [
    {
     "data": {
      "text/plain": [
       "312"
      ]
     },
     "execution_count": 87,
     "metadata": {},
     "output_type": "execute_result"
    }
   ],
   "source": [
    "len(api_dict)"
   ]
  },
  {
   "cell_type": "code",
   "execution_count": 88,
   "metadata": {},
   "outputs": [],
   "source": [
    "with open(path + 'apis.csv', 'w+') as output_file:\n",
    "    for api, id in sorted(api_dict.items(), key = lambda kv: kv[1]):\n",
    "#         print (api)\n",
    "        api_str = api + ',' + str(id) + '\\n'\n",
    "        output_file.write(api_str)\n",
    "# # api_dict.iteritems()"
   ]
  },
  {
   "cell_type": "code",
   "execution_count": 86,
   "metadata": {},
   "outputs": [
    {
     "name": "stdout",
     "output_type": "stream",
     "text": [
      "EncryptMessage\n",
      "NtLoadKey2\n",
      "WNetGetProviderNameW\n"
     ]
    }
   ],
   "source": [
    "api_dict.pop('EncryptMessage')\n",
    "with open(path + 'test.csv', 'r') as file:\n",
    "    for line in file:\n",
    "        ls = line.split(',')\n",
    "        api = ls[1]\n",
    "        if api not in api_dict:\n",
    "            print(api)\n",
    "            api_dict[api] = api_num\n",
    "            api_num += 1"
   ]
  },
  {
   "cell_type": "code",
   "execution_count": 92,
   "metadata": {},
   "outputs": [],
   "source": [
    "with open(path + 'train.csv', 'r') as file, open(path + 'train_api_id.csv', 'w+') as output_file:\n",
    "    i = 0\n",
    "    for line in file:\n",
    "        if i == 0:\n",
    "            output_file.write(line)\n",
    "        else:\n",
    "            ls = line.split(',')\n",
    "            ls[2] = str(api_dict[ls[2]])\n",
    "            out_str = ','.join(ls)\n",
    "            output_file.write(out_str)\n",
    "        i += 1\n",
    "#         if i == 100:\n",
    "#             break"
   ]
  },
  {
   "cell_type": "code",
   "execution_count": null,
   "metadata": {},
   "outputs": [],
   "source": [
    "with open(path + 'test.csv', 'r') as file, open(path + 'test_api_id.csv', 'w+') as output_file:\n",
    "    i = 0\n",
    "    for line in file:\n",
    "        if i == 0:\n",
    "            output_file.write(line)\n",
    "        else:\n",
    "            ls = line.split(',')\n",
    "            ls[1] = str(api_dict[ls[1]])\n",
    "            out_str = ','.join(ls)\n",
    "            output_file.write(out_str)\n",
    "        i += 1\n",
    "#         if i == 100:\n",
    "#             break"
   ]
  },
  {
   "cell_type": "code",
   "execution_count": 2,
   "metadata": {},
   "outputs": [],
   "source": [
    "import pandas as pd\n",
    "\n",
    "path = '../Data/'\n",
    "dtypes = {\n",
    "'file_id' : 'uint32', 'label' : 'uint8', 'api' : 'uint16', 'tid' : 'uint16', 'return_value' : 'int64', 'index' : 'uint16'\n",
    "        }\n",
    "train = pd.read_csv(path + 'train_api_id_sample_10.csv', )\n",
    "# test = pd.read_csv(path + 'test_api_id.csv')"
   ]
  },
  {
   "cell_type": "code",
   "execution_count": 101,
   "metadata": {},
   "outputs": [],
   "source": [
    "file_apis = train[:1000].groupby(['file_id'])['api'].apply(lambda s: ' '.join([str(v) for v in s]))"
   ]
  },
  {
   "cell_type": "code",
   "execution_count": 110,
   "metadata": {},
   "outputs": [
    {
     "data": {
      "text/plain": [
       "array(['20 17',\n",
       "       '1 16 6 16 15 4 21 12 12 22 23 2 15 16 16 17 17 15 14 15 15 3 15 15 15 15 15 18 19 15 15 15 15 17',\n",
       "       '5 6 6 6 6 6 6 6 6 6 8 15 24 25 15 26 15 15 7 5 6 6 6 6 5 6 5 6 6 6 6 6 6 6 6 6 6 6 6 6 6 6 6 6 6 6 6 6 6 6 6 6 6 6 6 6 6 6 6 6 6 6 6 6 6 5 6 6 6 6 6 6 6 6 6 6 6 6 6 6 6 6 6 6 6 6 6 6 6 6 6 6 6 6 6 6 6 6 6 6 6 6 6 6 6 6 6 6 6 6 6 6 6 6 6 6 6 6 6 6 6 6 6 6 5 6 6 6 6 5 6 6 6 5 6 6 6 6 6 6 6 6 6 6 6 6 6 6 6 6 6 6 6 6 6 5 6 6 6 6 6 6 6 6 6 6 6 6 6 6 6 6 6 6 6 6 6 6 6 6 6 6 6 6 6 6 6 6 6 6 6 6 6 6 6 6 6 6 6 6 6 6 6 6 6 6 6 6 6 6 6 5 6 6 6 6 6 6 6 6 5 6 6 6 5 6 6 6 6 6 6 6 6 6 6 6 6 6 6 6 6 6 6 6 6 6 6 6 6 6 6 6 6 6 6 6 6 6 6 6 6 6 6 6 6 6 6 6 6 6 6 6 6 6 6 6 6 6 6 6 6 6 6 6 6 6 6 6 6 6 6 6 6 6 6 6 6 6 6 6 6 6 6 6 6 6 6 6 6 6 6 6 6 6 6 6 6 6 6 6 6 6 6 6 6 6 6 6 6 6 6 6 6 6 6 6 6 6 6 6 6 6 6 6 6 6 6 6 6 6 6 6 6 6 6 6 6 6 6 6 6 6 6 6 6 6 6 6 6 6 6 6 6 6 6 6 6 6 6 6 6 6 6 6 6 6 6 5 6 6 6 6 6 5 6 6 6 5 6 6 6 6 6 6 6 6 6 6 6 6 27 27 28 28 28 15 29 29 29 29 30 2 30 30 30 30 30 30 30 30 30 30 30 30 30 30 30 30 30 30 30 30 30 30 30 30 30 30 30 30 30 30 16 6 31 16 6 6 6 6 6 6 6 6 6 6 6 6 6 6 6 6 6 6 6 6 6 6 28 32 32 23 16 21 16 6 5 6 6 6 6 6 6 6 6 6 6 21 6 6 31 31 33 34 33 34 33 34 33 34 33 34 33 34 33 34 33 34 33 34 33 34 33 34 33 34 33 34 33 34 6 33 34 33 34 15 15 2 31 31 16 33 34 33 34 16 33 34 33 34 33 34 28 28 16 6 30 30 30 30 30 30 30 30 30 30 30 30 30 30 30 30 30 30 5 6 6 35 24 9 10 15 15 16 6 6 6 6 6 6 6 6 6 6 6 6 16 6 31 31 36 36 34 37 2 3 2 5 6 6 6 6 6 6 6 6 6 6 6 6 6 6 6 6 6 6 6 6 6 6 6 6 6 6 6 6 6 6 6 6 6 6 6 6 6 6 6 6 6 6 6 6 6 6 6 38 39 40 40 41 42 43 44 7 7 23 15 23 15 41 42 45 24 46 47 48 15 33 34 16 33 34 33 34 40 40 45 49 15 49 15 49 15 49 15 44 15 7 23 15 23 15 41 42 45 24 46 47 48 15 6 12 12 32 32 32 32 32 32 32 32 32 32 32 32 32 32 32 32 23 23 15 15 12 50 5 6 6 11 6 6 15 15 12 22 23 15 15 15 15 15 51 15 52 10 14 15 12 53 12 53 12 53 12 53 12 53 53 23 53 12 53 12 53 53 53 53 53 53 53 23 53 12 53 12 53 12 53 12 53 12 53 12 53 12 53 12 53 12 53 12 53 23 15 18 12 23 22 22 22 31 23 31 54 54 54 52 10 14 15 54 54 15 18 12 23 53 23 2 2 12 22 23 12 16 33 33 5 40 40 55 55 55 55 55 55 55 55 55 55 5 6 54 54 6 6 55 55 55 55 55 55 55 31 31 31 31 33 34 33 34 15 18 12 23 31 31 33 34 33 34 31 31 33 34 33 34 55 55 56 55 55 55 55 55 55 55 55 55 55 55 55 55 55 55 55 55 55 55 55 55 55 55 55 55 55 55 55 55 55 55 55 55 55 55 55 55 55 55 55 55 55 55 55 55 57 55 55 55 55 55 5 6 6 6 6 6 6 6 6 6 6 6 6 6 6 6 6 6 6 6 6 6 6'],\n",
       "      dtype=object)"
      ]
     },
     "execution_count": 110,
     "metadata": {},
     "output_type": "execute_result"
    }
   ],
   "source": [
    "file_apis.values"
   ]
  },
  {
   "cell_type": "code",
   "execution_count": 31,
   "metadata": {},
   "outputs": [],
   "source": [
    "from sklearn import feature_extraction\n",
    "\n",
    "# train_row = train.shape[0]\n",
    "# df = train.append(test)\n",
    "# del train\n",
    "# del test\n",
    "# print (df.shape)\n"
   ]
  },
  {
   "cell_type": "code",
   "execution_count": 63,
   "metadata": {},
   "outputs": [],
   "source": []
  },
  {
   "cell_type": "code",
   "execution_count": 58,
   "metadata": {},
   "outputs": [
    {
     "data": {
      "text/plain": [
       "(56059, 311)"
      ]
     },
     "execution_count": 58,
     "metadata": {},
     "output_type": "execute_result"
    }
   ],
   "source": [
    "api_counts.shape"
   ]
  },
  {
   "cell_type": "code",
   "execution_count": 130,
   "metadata": {},
   "outputs": [],
   "source": [
    "labels = train.groupby(['file_id'])['label'].first()"
   ]
  },
  {
   "cell_type": "code",
   "execution_count": 41,
   "metadata": {},
   "outputs": [
    {
     "data": {
      "text/plain": [
       "(56059,)"
      ]
     },
     "execution_count": 41,
     "metadata": {},
     "output_type": "execute_result"
    }
   ],
   "source": [
    "labels.shape"
   ]
  },
  {
   "cell_type": "code",
   "execution_count": 136,
   "metadata": {},
   "outputs": [],
   "source": []
  },
  {
   "cell_type": "code",
   "execution_count": 1,
   "metadata": {},
   "outputs": [
    {
     "name": "stderr",
     "output_type": "stream",
     "text": [
      "/usr/lib/python3.5/importlib/_bootstrap.py:222: RuntimeWarning: numpy.dtype size changed, may indicate binary incompatibility. Expected 96, got 88\n",
      "  return f(*args, **kwds)\n",
      "/usr/lib/python3.5/importlib/_bootstrap.py:222: RuntimeWarning: numpy.dtype size changed, may indicate binary incompatibility. Expected 96, got 88\n",
      "  return f(*args, **kwds)\n",
      "/usr/lib/python3.5/importlib/_bootstrap.py:222: RuntimeWarning: numpy.dtype size changed, may indicate binary incompatibility. Expected 96, got 88\n",
      "  return f(*args, **kwds)\n",
      "/usr/lib/python3.5/importlib/_bootstrap.py:222: RuntimeWarning: numpy.dtype size changed, may indicate binary incompatibility. Expected 96, got 88\n",
      "  return f(*args, **kwds)\n",
      "/usr/lib/python3.5/importlib/_bootstrap.py:222: RuntimeWarning: numpy.dtype size changed, may indicate binary incompatibility. Expected 96, got 88\n",
      "  return f(*args, **kwds)\n",
      "/usr/lib/python3.5/importlib/_bootstrap.py:222: RuntimeWarning: numpy.dtype size changed, may indicate binary incompatibility. Expected 96, got 88\n",
      "  return f(*args, **kwds)\n",
      "/usr/lib/python3.5/importlib/_bootstrap.py:222: RuntimeWarning: numpy.dtype size changed, may indicate binary incompatibility. Expected 96, got 88\n",
      "  return f(*args, **kwds)\n",
      "/usr/local/lib/python3.5/dist-packages/sklearn/cross_validation.py:41: DeprecationWarning: This module was deprecated in version 0.18 in favor of the model_selection module into which all the refactored classes and functions are moved. Also note that the interface of the new CV iterators are different from that of this module. This module will be removed in 0.20.\n",
      "  \"This module will be removed in 0.20.\", DeprecationWarning)\n",
      "/usr/local/lib/python3.5/dist-packages/sklearn/ensemble/weight_boosting.py:29: DeprecationWarning: numpy.core.umath_tests is an internal NumPy module and should not be imported. It will be removed in a future NumPy release.\n",
      "  from numpy.core.umath_tests import inner1d\n",
      "/usr/local/lib/python3.5/dist-packages/sklearn/grid_search.py:42: DeprecationWarning: This module was deprecated in version 0.18 in favor of the model_selection module into which all the refactored classes and functions are moved. This module will be removed in 0.20.\n",
      "  DeprecationWarning)\n",
      "/usr/local/lib/python3.5/dist-packages/sklearn/learning_curve.py:22: DeprecationWarning: This module was deprecated in version 0.18 in favor of the model_selection module into which all the functions are moved. This module will be removed in 0.20\n",
      "  DeprecationWarning)\n"
     ]
    }
   ],
   "source": [
    "import pandas as pd\n",
    "import lightgbm as lgb\n",
    "from sklearn import *\n",
    "import numpy as np\n",
    "import matplotlib.pyplot as plt\n",
    "import os\n",
    "import pickle\n",
    "\n",
    "path = '../Data/'\n",
    "dtypes = {\n",
    "'file_id' : 'uint32', 'label' : 'uint8', 'api' : 'uint16', 'tid' : 'uint16', 'return_value' : 'int64', 'index' : 'uint16'\n",
    "        }\n",
    "train = pd.read_csv(path + 'train_api_id_sample_10.csv', usecols = ['file_id', 'label', 'api', 'tid', 'index'], dtype = dtypes)\n",
    "test = pd.read_csv(path + 'test_api_id.csv', usecols = ['file_id', 'api', 'tid', 'index'], dtype = dtypes)\n",
    "test['file_id'] += train['file_id'].max() + 1\n",
    "# test.head()\n"
   ]
  },
  {
   "cell_type": "code",
   "execution_count": 154,
   "metadata": {},
   "outputs": [
    {
     "data": {
      "text/html": [
       "<div>\n",
       "<style scoped>\n",
       "    .dataframe tbody tr th:only-of-type {\n",
       "        vertical-align: middle;\n",
       "    }\n",
       "\n",
       "    .dataframe tbody tr th {\n",
       "        vertical-align: top;\n",
       "    }\n",
       "\n",
       "    .dataframe thead th {\n",
       "        text-align: right;\n",
       "    }\n",
       "</style>\n",
       "<table border=\"1\" class=\"dataframe\">\n",
       "  <thead>\n",
       "    <tr style=\"text-align: right;\">\n",
       "      <th></th>\n",
       "      <th>api</th>\n",
       "    </tr>\n",
       "    <tr>\n",
       "      <th>file_id</th>\n",
       "      <th></th>\n",
       "    </tr>\n",
       "  </thead>\n",
       "  <tbody>\n",
       "    <tr>\n",
       "      <th>1</th>\n",
       "      <td>20 17</td>\n",
       "    </tr>\n",
       "    <tr>\n",
       "      <th>2</th>\n",
       "      <td>1 16 6 16 15 4 21 12 12 22 23 2 15 16 16 17 17...</td>\n",
       "    </tr>\n",
       "    <tr>\n",
       "      <th>3</th>\n",
       "      <td>5 6 6 6 6 6 6 6 6 6 8 15 24 25 15 26 15 15 7 5...</td>\n",
       "    </tr>\n",
       "    <tr>\n",
       "      <th>4</th>\n",
       "      <td>69 15 15 15 5 6 6 6 6 6 6 6 6 6 6 6 1 70 18 19...</td>\n",
       "    </tr>\n",
       "    <tr>\n",
       "      <th>5</th>\n",
       "      <td>1 4 83 15 83 15 38 39 5 6 6 35 24 9 10 15 15 2...</td>\n",
       "    </tr>\n",
       "  </tbody>\n",
       "</table>\n",
       "</div>"
      ],
      "text/plain": [
       "                                                       api\n",
       "file_id                                                   \n",
       "1                                                    20 17\n",
       "2        1 16 6 16 15 4 21 12 12 22 23 2 15 16 16 17 17...\n",
       "3        5 6 6 6 6 6 6 6 6 6 8 15 24 25 15 26 15 15 7 5...\n",
       "4        69 15 15 15 5 6 6 6 6 6 6 6 6 6 6 6 1 70 18 19...\n",
       "5        1 4 83 15 83 15 38 39 5 6 6 35 24 9 10 15 15 2..."
      ]
     },
     "execution_count": 154,
     "metadata": {},
     "output_type": "execute_result"
    }
   ],
   "source": [
    "pd.set_option('max_rows', 1000)\n",
    "\n",
    "train[:10000].groupby(['file_id', ])['tid', 'index', 'api'].apply(\n",
    "    lambda s: s.sort_values(by = ['tid', 'index'])[['api']].apply(lambda s: ' '.join([str(x) for x in s]))) #) #.apply(lambda s: ' '.join(str(x) for x in s), axis = 0)\n",
    "#                    .sort_values(by = 'index', axis = 0))"
   ]
  },
  {
   "cell_type": "code",
   "execution_count": 109,
   "metadata": {},
   "outputs": [
    {
     "data": {
      "text/html": [
       "<div>\n",
       "<style scoped>\n",
       "    .dataframe tbody tr th:only-of-type {\n",
       "        vertical-align: middle;\n",
       "    }\n",
       "\n",
       "    .dataframe tbody tr th {\n",
       "        vertical-align: top;\n",
       "    }\n",
       "\n",
       "    .dataframe thead th {\n",
       "        text-align: right;\n",
       "    }\n",
       "</style>\n",
       "<table border=\"1\" class=\"dataframe\">\n",
       "  <thead>\n",
       "    <tr style=\"text-align: right;\">\n",
       "      <th></th>\n",
       "      <th>A</th>\n",
       "      <th>B</th>\n",
       "      <th>C</th>\n",
       "    </tr>\n",
       "  </thead>\n",
       "  <tbody>\n",
       "    <tr>\n",
       "      <th>0</th>\n",
       "      <td>a</td>\n",
       "      <td>1</td>\n",
       "      <td>4</td>\n",
       "    </tr>\n",
       "    <tr>\n",
       "      <th>1</th>\n",
       "      <td>a</td>\n",
       "      <td>2</td>\n",
       "      <td>6</td>\n",
       "    </tr>\n",
       "    <tr>\n",
       "      <th>2</th>\n",
       "      <td>b</td>\n",
       "      <td>3</td>\n",
       "      <td>5</td>\n",
       "    </tr>\n",
       "  </tbody>\n",
       "</table>\n",
       "</div>"
      ],
      "text/plain": [
       "   A  B  C\n",
       "0  a  1  4\n",
       "1  a  2  6\n",
       "2  b  3  5"
      ]
     },
     "execution_count": 109,
     "metadata": {},
     "output_type": "execute_result"
    }
   ],
   "source": [
    "df = pd.DataFrame({'A': 'a a b'.split(), 'B': [1,2,3], 'C': [4,6, 5]})\n",
    "df"
   ]
  },
  {
   "cell_type": "code",
   "execution_count": 113,
   "metadata": {},
   "outputs": [
    {
     "data": {
      "text/html": [
       "<div>\n",
       "<style scoped>\n",
       "    .dataframe tbody tr th:only-of-type {\n",
       "        vertical-align: middle;\n",
       "    }\n",
       "\n",
       "    .dataframe tbody tr th {\n",
       "        vertical-align: top;\n",
       "    }\n",
       "\n",
       "    .dataframe thead th {\n",
       "        text-align: right;\n",
       "    }\n",
       "</style>\n",
       "<table border=\"1\" class=\"dataframe\">\n",
       "  <thead>\n",
       "    <tr style=\"text-align: right;\">\n",
       "      <th></th>\n",
       "      <th>B</th>\n",
       "      <th>C</th>\n",
       "    </tr>\n",
       "    <tr>\n",
       "      <th>A</th>\n",
       "      <th></th>\n",
       "      <th></th>\n",
       "    </tr>\n",
       "  </thead>\n",
       "  <tbody>\n",
       "    <tr>\n",
       "      <th>a</th>\n",
       "      <td>1</td>\n",
       "      <td>2</td>\n",
       "    </tr>\n",
       "    <tr>\n",
       "      <th>b</th>\n",
       "      <td>0</td>\n",
       "      <td>0</td>\n",
       "    </tr>\n",
       "  </tbody>\n",
       "</table>\n",
       "</div>"
      ],
      "text/plain": [
       "   B  C\n",
       "A      \n",
       "a  1  2\n",
       "b  0  0"
      ]
     },
     "execution_count": 113,
     "metadata": {},
     "output_type": "execute_result"
    }
   ],
   "source": [
    "g.apply(lambda x: x / x.sum())\n",
    "g.apply(lambda x: x.max() - x.min())"
   ]
  },
  {
   "cell_type": "code",
   "execution_count": 25,
   "metadata": {},
   "outputs": [],
   "source": [
    "import pickle\n",
    "from tqdm import tqdm, tqdm_notebook\n",
    "tqdm.pandas(tqdm_notebook)\n",
    "\n",
    "def gen_label(df):\n",
    "    labels = df.groupby(['file_id'])['label'].first()\n",
    "    return labels\n",
    "\n",
    "def gen_apis_count_tfidf(df):\n",
    "    with open(path + 'train_test_api_counts_tfidf.pickle', 'rb') as handle:\n",
    "        features = pickle.load(handle)\n",
    "        return features\n",
    "    apis = pd.read_csv(path + 'apis.csv')\n",
    "    api_dict = dict((str(apis.iloc[i].id), i) for i in range(apis.shape[0]))\n",
    "    file_apis = df.groupby(['file_id'])['api'].apply(lambda s: ' '.join([str(v) for v in s]))\n",
    "    \n",
    "    CountTokenize = feature_extraction.text.CountVectorizer('content', vocabulary = api_dict)\n",
    "    TfidfTransformer = feature_extraction.text.TfidfTransformer()\n",
    "    api_counts = CountTokenize.fit_transform(file_apis.values).toarray()\n",
    "    api_tfidf = TfidfTransformer.fit_transform(api_counts).toarray()\n",
    "    features = np.c_[api_counts, api_tfidf]\n",
    "    with open(path + 'train_pos5_test_api_counts_tfidf.pickle', 'wb+') as handle:\n",
    "        pickle.dump(features, handle, protocol=pickle.HIGHEST_PROTOCOL)\n",
    "    return features\n",
    "\n",
    "def gen_apis_count_tfidf_rm_consec_dup(df):\n",
    "#     with open(path + 'train_test_api_counts_tfidf_rm_consec_dup.pickle', 'rb') as handle:\n",
    "#         features = pickle.load(handle)\n",
    "#         return features\n",
    "    apis = pd.read_csv(path + 'apis.csv')\n",
    "    api_dict = dict((str(apis.iloc[i].id), i) for i in range(apis.shape[0]))\n",
    "    \n",
    "    with open(path + 'train_test_api_strs.pickle', 'rb') as handle:\n",
    "        file_apis = pickle.load(handle)\n",
    "    def rm_conc_dup(s):\n",
    "#         print (s)\n",
    "        s_a = np.array(s.split(' '))\n",
    "        dup_re = s_a[s_a != np.append(s_a[1:], ' ')]\n",
    "        dup_re = ' '.join(dup_re)\n",
    "        return dup_re\n",
    "    file_apis = file_apis.progress_apply(rm_conc_dup)\n",
    "    with open(path + 'train_pos10_test_api_strs_consec_dup.pickle', 'wb+') as handle:\n",
    "        pickle.dump(file_apis, handle, protocol=pickle.HIGHEST_PROTOCOL)\n",
    "    print (file_apis.head())\n",
    "#     file_apis = df.groupby(['file_id'])['api'].apply(lambda s: ' '.join([str(v) for v in s[s.shift() != s]]))\n",
    "    \n",
    "    print ('count_vectorizer...')\n",
    "    CountTokenize = feature_extraction.text.CountVectorizer('content', vocabulary = api_dict)\n",
    "    TfidfTransformer = feature_extraction.text.TfidfTransformer()\n",
    "    api_counts = CountTokenize.fit_transform(file_apis.values).toarray()\n",
    "    print ('TfidfTransformer...')\n",
    "    api_tfidf = TfidfTransformer.fit_transform(api_counts).toarray()\n",
    "    features = np.c_[api_counts, api_tfidf]\n",
    "    with open(path + 'train_pos10_test_api_counts_tfidf_rm_consec_dup.pickle', 'wb+') as handle:\n",
    "        pickle.dump(features, handle, protocol=pickle.HIGHEST_PROTOCOL)\n",
    "    return features\n",
    "\n",
    "def gen_api_ngram_counts(df, ngram = 2, max_features = 100000, svd_dim = 50, svd_iter =25):\n",
    "    features_file_name = path + 'train_test_api_counts_' + '_'.join([ \\\n",
    "        str(ngram), str(max_features), str(svd_dim), str(svd_iter)]) + '_.pickle'\n",
    "    if os.path.isfile(features_file_name):\n",
    "        with open(features_file_name, 'rb') as handle:\n",
    "            features = pickle.load(handle)\n",
    "            return features\n",
    "\n",
    "#     file_apis = df.groupby(['file_id', ])['tid', 'index', 'api'].apply( \\\n",
    "#         lambda s: s.sort_values(by = ['tid', 'index'])[['api']].apply( \\\n",
    "#             lambda s: ' '.join(str(x) for x in s)))['api']\n",
    "#     with open(path + 'train_test_api_strs.pickle', 'wb+') as handle:\n",
    "#         pickle.dump(file_apis, handle, protocol=pickle.HIGHEST_PROTOCOL)\n",
    "    with open(path + 'train_test_api_strs.pickle', 'rb') as handle:\n",
    "        file_apis = pickle.load(handle)\n",
    "    print ('file_apis shape: ', file_apis.shape)\n",
    "#     print (file_apis.head())\n",
    "    \n",
    "    print('Pipeline...')\n",
    "    print ('count_vectorizer...')\n",
    "    count_vectorizer_file_name = path + 'train_test_api_counts_' + '_'.join([str(ngram), str(max_features)]) + '_.pickle'\n",
    "    if os.path.isfile(count_vectorizer_file_name):\n",
    "        with open(count_vectorizer_file_name, 'rb') as handle:\n",
    "            count_vectorizer_features = pickle.load(handle)\n",
    "    else:\n",
    "        count_vectorizer = feature_extraction.text.CountVectorizer(ngram_range=(1, ngram), max_features = max_features)\n",
    "        count_vectorizer_features = count_vectorizer.fit_transform(file_apis.values)\n",
    "        with open(count_vectorizer_file_name, 'wb+') as handle:\n",
    "            pickle.dump(count_vectorizer_features, handle, protocol=pickle.HIGHEST_PROTOCOL)\n",
    "    \n",
    "    print ('SVD...')\n",
    "    svd = decomposition.TruncatedSVD(n_components=svd_dim, n_iter=svd_iter, random_state=12)\n",
    "    svd_features = svd.fit_transform(count_vectorizer_features)\n",
    "#     fp = pipeline.Pipeline([ \\\n",
    "#         ('count_api', feature_extraction.text.CountVectorizer(ngram_range=(1, ngram), max_features = max_features)),\\\n",
    "#         ('tsvd', decomposition.TruncatedSVD(n_components=svd_dim, n_iter=svd_iter, random_state=12))])\n",
    "    \n",
    "    features = svd_features #fp.fit_transform(file_apis.values);\n",
    "    print ('Features shape: ', features.shape)\n",
    "    with open(features_file_name, 'wb+') as handle:\n",
    "        pickle.dump(features, handle, protocol=pickle.HIGHEST_PROTOCOL)\n",
    "    return features\n",
    "\n",
    "def gen_return_value_features(df):\n",
    "    return_value = pd.read_csv(path + 'return_value_norm.csv', dtype = {'re': np.int64, 'norm_re': np.int16})\n",
    "    return_value_dict = dict((return_value.iloc[i]['re'], return_value.iloc[i]['norm_re']) for i in range(return_value.shape[0]))\n",
    "    file_return_value = df.groupby(['file_id'])['return_value'].apply(lambda s: ' '.join([str(return_value_dict[v]) for v in s]))\n",
    "    \n",
    "    CountTokenize = feature_extraction.text.CountVectorizer()\n",
    "    TfidfTransformer = feature_extraction.text.TfidfTransformer()\n",
    "    re_counts = CountTokenize.fit_transform(file_return_value.values).toarray()\n",
    "    re_tfidf = TfidfTransformer.fit_transform(re_counts).toarray()\n",
    "    \n",
    "    features = np.c_[re_counts, re_tfidf]\n",
    "    with open(path + 'train_test_re_counts_tfidf.pickle', 'wb+') as handle:\n",
    "        pickle.dump(features, handle, protocol=pickle.HIGHEST_PROTOCOL)\n",
    "    return features"
   ]
  },
  {
   "cell_type": "code",
   "execution_count": 4,
   "metadata": {},
   "outputs": [
    {
     "name": "stdout",
     "output_type": "stream",
     "text": [
      "(207936658, 5) (198719006, 4)\n",
      "train file size:  56059\n",
      "df shape:  (406655664, 4)\n"
     ]
    }
   ],
   "source": [
    "# del df\n",
    "print (train.shape, test.shape)\n",
    "train_flat_len = train.shape[0]\n",
    "labels = gen_label(train)\n",
    "train_row = len(labels)\n",
    "print ('train file size: ', train_row)\n",
    "train.drop(columns = ['label'], inplace = True)\n",
    "df = pd.concat([train, test], axis = 0, sort = False)\n",
    "print ('df shape: ', df.shape)\n",
    "del train\n",
    "del test"
   ]
  },
  {
   "cell_type": "code",
   "execution_count": 77,
   "metadata": {},
   "outputs": [],
   "source": [
    "with open(path + 'train_pos10_labels.pickle', 'wb+') as handle:\n",
    "    pickle.dump(labels, handle, protocol=pickle.HIGHEST_PROTOCOL)"
   ]
  },
  {
   "cell_type": "code",
   "execution_count": 11,
   "metadata": {},
   "outputs": [
    {
     "data": {
      "text/plain": [
       "(406655664, 4)"
      ]
     },
     "execution_count": 11,
     "metadata": {},
     "output_type": "execute_result"
    }
   ],
   "source": [
    "df.shape"
   ]
  },
  {
   "cell_type": "code",
   "execution_count": 4,
   "metadata": {},
   "outputs": [],
   "source": [
    "# del train, test\n",
    "api_ngram_features = gen_api_ngram_counts(df, 6, 100000, 200, 25)"
   ]
  },
  {
   "cell_type": "code",
   "execution_count": 26,
   "metadata": {},
   "outputs": [
    {
     "name": "stderr",
     "output_type": "stream",
     "text": [
      "100%|██████████| 109152/109152 [03:20<00:00, 543.31it/s]\n"
     ]
    },
    {
     "name": "stdout",
     "output_type": "stream",
     "text": [
      "file_id\n",
      "1                                                20 17\n",
      "2    1 16 6 16 15 4 21 12 22 23 2 15 16 17 15 14 15...\n",
      "3    5 6 8 15 24 25 15 26 15 7 5 6 5 6 5 6 5 6 5 6 ...\n",
      "4    69 15 5 6 1 70 18 19 15 8 1 18 71 5 6 28 32 23...\n",
      "5    1 4 83 15 83 15 38 39 5 6 35 24 9 10 15 21 4 8...\n",
      "Name: api, dtype: object\n",
      "count_vectorizer...\n",
      "TfidfTransformer...\n"
     ]
    }
   ],
   "source": [
    "api_counts_tfidf = gen_apis_count_tfidf_rm_consec_dup(df)"
   ]
  },
  {
   "cell_type": "code",
   "execution_count": 22,
   "metadata": {},
   "outputs": [],
   "source": [
    "api_features = api_counts_tfidf #np.c_[api_ngram_features, api_counts_tfidf]"
   ]
  },
  {
   "cell_type": "code",
   "execution_count": 17,
   "metadata": {},
   "outputs": [
    {
     "data": {
      "text/plain": [
       "(109152, 622)"
      ]
     },
     "execution_count": 17,
     "metadata": {},
     "output_type": "execute_result"
    }
   ],
   "source": [
    "api_counts_tfidf.shape"
   ]
  },
  {
   "cell_type": "code",
   "execution_count": 8,
   "metadata": {},
   "outputs": [],
   "source": [
    "# re_features = gen_return_value_features(df)\n",
    "labels = gen_label(df)"
   ]
  },
  {
   "cell_type": "code",
   "execution_count": 10,
   "metadata": {},
   "outputs": [
    {
     "data": {
      "text/plain": [
       "56059"
      ]
     },
     "execution_count": 10,
     "metadata": {},
     "output_type": "execute_result"
    }
   ],
   "source": [
    "train_row = len(labels) - labels.isnull().sum()\n",
    "train_row\n",
    "# %time print(labels.head())"
   ]
  },
  {
   "cell_type": "code",
   "execution_count": 21,
   "metadata": {},
   "outputs": [
    {
     "ename": "SyntaxError",
     "evalue": "invalid syntax (<ipython-input-21-8c1bfc637cb3>, line 1)",
     "output_type": "error",
     "traceback": [
      "\u001b[0;36m  File \u001b[0;32m\"<ipython-input-21-8c1bfc637cb3>\"\u001b[0;36m, line \u001b[0;32m1\u001b[0m\n\u001b[0;31m    labels[!(labels.isnull())].sum()\u001b[0m\n\u001b[0m           ^\u001b[0m\n\u001b[0;31mSyntaxError\u001b[0m\u001b[0;31m:\u001b[0m invalid syntax\n"
     ]
    }
   ],
   "source": [
    "labels[labels.isnull()].sum()"
   ]
  },
  {
   "cell_type": "code",
   "execution_count": 25,
   "metadata": {},
   "outputs": [
    {
     "ename": "KeyboardInterrupt",
     "evalue": "",
     "output_type": "error",
     "traceback": [
      "\u001b[0;31m---------------------------------------------------------------------------\u001b[0m",
      "\u001b[0;31mKeyboardInterrupt\u001b[0m                         Traceback (most recent call last)",
      "\u001b[0;32m<ipython-input-25-aa1020a784fb>\u001b[0m in \u001b[0;36m<module>\u001b[0;34m()\u001b[0m\n\u001b[1;32m      2\u001b[0m \u001b[0mpd\u001b[0m\u001b[0;34m.\u001b[0m\u001b[0mset_option\u001b[0m\u001b[0;34m(\u001b[0m\u001b[0;34m'max_rows'\u001b[0m\u001b[0;34m,\u001b[0m \u001b[0;32mNone\u001b[0m\u001b[0;34m)\u001b[0m\u001b[0;34m\u001b[0m\u001b[0m\n\u001b[1;32m      3\u001b[0m \u001b[0;34m\u001b[0m\u001b[0m\n\u001b[0;32m----> 4\u001b[0;31m \u001b[0mtrain\u001b[0m\u001b[0;34m.\u001b[0m\u001b[0mgroupby\u001b[0m\u001b[0;34m(\u001b[0m\u001b[0;34m[\u001b[0m\u001b[0;34m'file_id'\u001b[0m\u001b[0;34m,\u001b[0m \u001b[0;34m'tid'\u001b[0m\u001b[0;34m]\u001b[0m\u001b[0;34m)\u001b[0m\u001b[0;34m[\u001b[0m\u001b[0;34m'api'\u001b[0m\u001b[0;34m]\u001b[0m\u001b[0;34m.\u001b[0m\u001b[0mapply\u001b[0m\u001b[0;34m(\u001b[0m\u001b[0;32mlambda\u001b[0m \u001b[0ms\u001b[0m\u001b[0;34m:\u001b[0m \u001b[0;34m' '\u001b[0m\u001b[0;34m.\u001b[0m\u001b[0mjoin\u001b[0m\u001b[0;34m(\u001b[0m\u001b[0;34m[\u001b[0m\u001b[0mstr\u001b[0m\u001b[0;34m(\u001b[0m\u001b[0mv\u001b[0m\u001b[0;34m)\u001b[0m \u001b[0;32mfor\u001b[0m \u001b[0mv\u001b[0m \u001b[0;32min\u001b[0m \u001b[0ms\u001b[0m\u001b[0;34m[\u001b[0m\u001b[0ms\u001b[0m\u001b[0;34m.\u001b[0m\u001b[0mshift\u001b[0m\u001b[0;34m(\u001b[0m\u001b[0;34m)\u001b[0m \u001b[0;34m!=\u001b[0m \u001b[0ms\u001b[0m\u001b[0;34m]\u001b[0m\u001b[0;34m]\u001b[0m\u001b[0;34m)\u001b[0m\u001b[0;34m)\u001b[0m\u001b[0;34m\u001b[0m\u001b[0m\n\u001b[0m",
      "\u001b[0;32m/usr/local/lib/python3.5/dist-packages/pandas/core/groupby/groupby.py\u001b[0m in \u001b[0;36mapply\u001b[0;34m(self, func, *args, **kwargs)\u001b[0m\n\u001b[1;32m   3467\u001b[0m                       examples=_apply_docs['series_examples']))\n\u001b[1;32m   3468\u001b[0m     \u001b[0;32mdef\u001b[0m \u001b[0mapply\u001b[0m\u001b[0;34m(\u001b[0m\u001b[0mself\u001b[0m\u001b[0;34m,\u001b[0m \u001b[0mfunc\u001b[0m\u001b[0;34m,\u001b[0m \u001b[0;34m*\u001b[0m\u001b[0margs\u001b[0m\u001b[0;34m,\u001b[0m \u001b[0;34m**\u001b[0m\u001b[0mkwargs\u001b[0m\u001b[0;34m)\u001b[0m\u001b[0;34m:\u001b[0m\u001b[0;34m\u001b[0m\u001b[0m\n\u001b[0;32m-> 3469\u001b[0;31m         \u001b[0;32mreturn\u001b[0m \u001b[0msuper\u001b[0m\u001b[0;34m(\u001b[0m\u001b[0mSeriesGroupBy\u001b[0m\u001b[0;34m,\u001b[0m \u001b[0mself\u001b[0m\u001b[0;34m)\u001b[0m\u001b[0;34m.\u001b[0m\u001b[0mapply\u001b[0m\u001b[0;34m(\u001b[0m\u001b[0mfunc\u001b[0m\u001b[0;34m,\u001b[0m \u001b[0;34m*\u001b[0m\u001b[0margs\u001b[0m\u001b[0;34m,\u001b[0m \u001b[0;34m**\u001b[0m\u001b[0mkwargs\u001b[0m\u001b[0;34m)\u001b[0m\u001b[0;34m\u001b[0m\u001b[0m\n\u001b[0m\u001b[1;32m   3470\u001b[0m \u001b[0;34m\u001b[0m\u001b[0m\n\u001b[1;32m   3471\u001b[0m     \u001b[0;34m@\u001b[0m\u001b[0mAppender\u001b[0m\u001b[0;34m(\u001b[0m\u001b[0m_agg_doc\u001b[0m\u001b[0;34m)\u001b[0m\u001b[0;34m\u001b[0m\u001b[0m\n",
      "\u001b[0;32m/usr/local/lib/python3.5/dist-packages/pandas/core/groupby/groupby.py\u001b[0m in \u001b[0;36mapply\u001b[0;34m(self, func, *args, **kwargs)\u001b[0m\n\u001b[1;32m    916\u001b[0m         \u001b[0;32mwith\u001b[0m \u001b[0moption_context\u001b[0m\u001b[0;34m(\u001b[0m\u001b[0;34m'mode.chained_assignment'\u001b[0m\u001b[0;34m,\u001b[0m \u001b[0;32mNone\u001b[0m\u001b[0;34m)\u001b[0m\u001b[0;34m:\u001b[0m\u001b[0;34m\u001b[0m\u001b[0m\n\u001b[1;32m    917\u001b[0m             \u001b[0;32mtry\u001b[0m\u001b[0;34m:\u001b[0m\u001b[0;34m\u001b[0m\u001b[0m\n\u001b[0;32m--> 918\u001b[0;31m                 \u001b[0mresult\u001b[0m \u001b[0;34m=\u001b[0m \u001b[0mself\u001b[0m\u001b[0;34m.\u001b[0m\u001b[0m_python_apply_general\u001b[0m\u001b[0;34m(\u001b[0m\u001b[0mf\u001b[0m\u001b[0;34m)\u001b[0m\u001b[0;34m\u001b[0m\u001b[0m\n\u001b[0m\u001b[1;32m    919\u001b[0m             \u001b[0;32mexcept\u001b[0m \u001b[0mException\u001b[0m\u001b[0;34m:\u001b[0m\u001b[0;34m\u001b[0m\u001b[0m\n\u001b[1;32m    920\u001b[0m \u001b[0;34m\u001b[0m\u001b[0m\n",
      "\u001b[0;32m/usr/local/lib/python3.5/dist-packages/pandas/core/groupby/groupby.py\u001b[0m in \u001b[0;36m_python_apply_general\u001b[0;34m(self, f)\u001b[0m\n\u001b[1;32m    934\u001b[0m     \u001b[0;32mdef\u001b[0m \u001b[0m_python_apply_general\u001b[0m\u001b[0;34m(\u001b[0m\u001b[0mself\u001b[0m\u001b[0;34m,\u001b[0m \u001b[0mf\u001b[0m\u001b[0;34m)\u001b[0m\u001b[0;34m:\u001b[0m\u001b[0;34m\u001b[0m\u001b[0m\n\u001b[1;32m    935\u001b[0m         keys, values, mutated = self.grouper.apply(f, self._selected_obj,\n\u001b[0;32m--> 936\u001b[0;31m                                                    self.axis)\n\u001b[0m\u001b[1;32m    937\u001b[0m \u001b[0;34m\u001b[0m\u001b[0m\n\u001b[1;32m    938\u001b[0m         return self._wrap_applied_output(\n",
      "\u001b[0;32m/usr/local/lib/python3.5/dist-packages/pandas/core/groupby/groupby.py\u001b[0m in \u001b[0;36mapply\u001b[0;34m(self, f, data, axis)\u001b[0m\n\u001b[1;32m   2247\u001b[0m     \u001b[0;32mdef\u001b[0m \u001b[0mapply\u001b[0m\u001b[0;34m(\u001b[0m\u001b[0mself\u001b[0m\u001b[0;34m,\u001b[0m \u001b[0mf\u001b[0m\u001b[0;34m,\u001b[0m \u001b[0mdata\u001b[0m\u001b[0;34m,\u001b[0m \u001b[0maxis\u001b[0m\u001b[0;34m=\u001b[0m\u001b[0;36m0\u001b[0m\u001b[0;34m)\u001b[0m\u001b[0;34m:\u001b[0m\u001b[0;34m\u001b[0m\u001b[0m\n\u001b[1;32m   2248\u001b[0m         \u001b[0mmutated\u001b[0m \u001b[0;34m=\u001b[0m \u001b[0mself\u001b[0m\u001b[0;34m.\u001b[0m\u001b[0mmutated\u001b[0m\u001b[0;34m\u001b[0m\u001b[0m\n\u001b[0;32m-> 2249\u001b[0;31m         \u001b[0msplitter\u001b[0m \u001b[0;34m=\u001b[0m \u001b[0mself\u001b[0m\u001b[0;34m.\u001b[0m\u001b[0m_get_splitter\u001b[0m\u001b[0;34m(\u001b[0m\u001b[0mdata\u001b[0m\u001b[0;34m,\u001b[0m \u001b[0maxis\u001b[0m\u001b[0;34m=\u001b[0m\u001b[0maxis\u001b[0m\u001b[0;34m)\u001b[0m\u001b[0;34m\u001b[0m\u001b[0m\n\u001b[0m\u001b[1;32m   2250\u001b[0m         \u001b[0mgroup_keys\u001b[0m \u001b[0;34m=\u001b[0m \u001b[0mself\u001b[0m\u001b[0;34m.\u001b[0m\u001b[0m_get_group_keys\u001b[0m\u001b[0;34m(\u001b[0m\u001b[0;34m)\u001b[0m\u001b[0;34m\u001b[0m\u001b[0m\n\u001b[1;32m   2251\u001b[0m \u001b[0;34m\u001b[0m\u001b[0m\n",
      "\u001b[0;32m/usr/local/lib/python3.5/dist-packages/pandas/core/groupby/groupby.py\u001b[0m in \u001b[0;36m_get_splitter\u001b[0;34m(self, data, axis)\u001b[0m\n\u001b[1;32m   2230\u001b[0m \u001b[0;34m\u001b[0m\u001b[0m\n\u001b[1;32m   2231\u001b[0m     \u001b[0;32mdef\u001b[0m \u001b[0m_get_splitter\u001b[0m\u001b[0;34m(\u001b[0m\u001b[0mself\u001b[0m\u001b[0;34m,\u001b[0m \u001b[0mdata\u001b[0m\u001b[0;34m,\u001b[0m \u001b[0maxis\u001b[0m\u001b[0;34m=\u001b[0m\u001b[0;36m0\u001b[0m\u001b[0;34m)\u001b[0m\u001b[0;34m:\u001b[0m\u001b[0;34m\u001b[0m\u001b[0m\n\u001b[0;32m-> 2232\u001b[0;31m         \u001b[0mcomp_ids\u001b[0m\u001b[0;34m,\u001b[0m \u001b[0m_\u001b[0m\u001b[0;34m,\u001b[0m \u001b[0mngroups\u001b[0m \u001b[0;34m=\u001b[0m \u001b[0mself\u001b[0m\u001b[0;34m.\u001b[0m\u001b[0mgroup_info\u001b[0m\u001b[0;34m\u001b[0m\u001b[0m\n\u001b[0m\u001b[1;32m   2233\u001b[0m         \u001b[0;32mreturn\u001b[0m \u001b[0mget_splitter\u001b[0m\u001b[0;34m(\u001b[0m\u001b[0mdata\u001b[0m\u001b[0;34m,\u001b[0m \u001b[0mcomp_ids\u001b[0m\u001b[0;34m,\u001b[0m \u001b[0mngroups\u001b[0m\u001b[0;34m,\u001b[0m \u001b[0maxis\u001b[0m\u001b[0;34m=\u001b[0m\u001b[0maxis\u001b[0m\u001b[0;34m)\u001b[0m\u001b[0;34m\u001b[0m\u001b[0m\n\u001b[1;32m   2234\u001b[0m \u001b[0;34m\u001b[0m\u001b[0m\n",
      "\u001b[0;32mpandas/_libs/properties.pyx\u001b[0m in \u001b[0;36mpandas._libs.properties.CachedProperty.__get__\u001b[0;34m()\u001b[0m\n",
      "\u001b[0;32m/usr/local/lib/python3.5/dist-packages/pandas/core/groupby/groupby.py\u001b[0m in \u001b[0;36mgroup_info\u001b[0;34m(self)\u001b[0m\n\u001b[1;32m   2333\u001b[0m     \u001b[0;34m@\u001b[0m\u001b[0mcache_readonly\u001b[0m\u001b[0;34m\u001b[0m\u001b[0m\n\u001b[1;32m   2334\u001b[0m     \u001b[0;32mdef\u001b[0m \u001b[0mgroup_info\u001b[0m\u001b[0;34m(\u001b[0m\u001b[0mself\u001b[0m\u001b[0;34m)\u001b[0m\u001b[0;34m:\u001b[0m\u001b[0;34m\u001b[0m\u001b[0m\n\u001b[0;32m-> 2335\u001b[0;31m         \u001b[0mcomp_ids\u001b[0m\u001b[0;34m,\u001b[0m \u001b[0mobs_group_ids\u001b[0m \u001b[0;34m=\u001b[0m \u001b[0mself\u001b[0m\u001b[0;34m.\u001b[0m\u001b[0m_get_compressed_labels\u001b[0m\u001b[0;34m(\u001b[0m\u001b[0;34m)\u001b[0m\u001b[0;34m\u001b[0m\u001b[0m\n\u001b[0m\u001b[1;32m   2336\u001b[0m \u001b[0;34m\u001b[0m\u001b[0m\n\u001b[1;32m   2337\u001b[0m         \u001b[0mngroups\u001b[0m \u001b[0;34m=\u001b[0m \u001b[0mlen\u001b[0m\u001b[0;34m(\u001b[0m\u001b[0mobs_group_ids\u001b[0m\u001b[0;34m)\u001b[0m\u001b[0;34m\u001b[0m\u001b[0m\n",
      "\u001b[0;32m/usr/local/lib/python3.5/dist-packages/pandas/core/groupby/groupby.py\u001b[0m in \u001b[0;36m_get_compressed_labels\u001b[0;34m(self)\u001b[0m\n\u001b[1;32m   2349\u001b[0m \u001b[0;34m\u001b[0m\u001b[0m\n\u001b[1;32m   2350\u001b[0m     \u001b[0;32mdef\u001b[0m \u001b[0m_get_compressed_labels\u001b[0m\u001b[0;34m(\u001b[0m\u001b[0mself\u001b[0m\u001b[0;34m)\u001b[0m\u001b[0;34m:\u001b[0m\u001b[0;34m\u001b[0m\u001b[0m\n\u001b[0;32m-> 2351\u001b[0;31m         \u001b[0mall_labels\u001b[0m \u001b[0;34m=\u001b[0m \u001b[0;34m[\u001b[0m\u001b[0mping\u001b[0m\u001b[0;34m.\u001b[0m\u001b[0mlabels\u001b[0m \u001b[0;32mfor\u001b[0m \u001b[0mping\u001b[0m \u001b[0;32min\u001b[0m \u001b[0mself\u001b[0m\u001b[0;34m.\u001b[0m\u001b[0mgroupings\u001b[0m\u001b[0;34m]\u001b[0m\u001b[0;34m\u001b[0m\u001b[0m\n\u001b[0m\u001b[1;32m   2352\u001b[0m         \u001b[0;32mif\u001b[0m \u001b[0mlen\u001b[0m\u001b[0;34m(\u001b[0m\u001b[0mall_labels\u001b[0m\u001b[0;34m)\u001b[0m \u001b[0;34m>\u001b[0m \u001b[0;36m1\u001b[0m\u001b[0;34m:\u001b[0m\u001b[0;34m\u001b[0m\u001b[0m\n\u001b[1;32m   2353\u001b[0m             group_index = get_group_index(all_labels, self.shape,\n",
      "\u001b[0;32m/usr/local/lib/python3.5/dist-packages/pandas/core/groupby/groupby.py\u001b[0m in \u001b[0;36m<listcomp>\u001b[0;34m(.0)\u001b[0m\n\u001b[1;32m   2349\u001b[0m \u001b[0;34m\u001b[0m\u001b[0m\n\u001b[1;32m   2350\u001b[0m     \u001b[0;32mdef\u001b[0m \u001b[0m_get_compressed_labels\u001b[0m\u001b[0;34m(\u001b[0m\u001b[0mself\u001b[0m\u001b[0;34m)\u001b[0m\u001b[0;34m:\u001b[0m\u001b[0;34m\u001b[0m\u001b[0m\n\u001b[0;32m-> 2351\u001b[0;31m         \u001b[0mall_labels\u001b[0m \u001b[0;34m=\u001b[0m \u001b[0;34m[\u001b[0m\u001b[0mping\u001b[0m\u001b[0;34m.\u001b[0m\u001b[0mlabels\u001b[0m \u001b[0;32mfor\u001b[0m \u001b[0mping\u001b[0m \u001b[0;32min\u001b[0m \u001b[0mself\u001b[0m\u001b[0;34m.\u001b[0m\u001b[0mgroupings\u001b[0m\u001b[0;34m]\u001b[0m\u001b[0;34m\u001b[0m\u001b[0m\n\u001b[0m\u001b[1;32m   2352\u001b[0m         \u001b[0;32mif\u001b[0m \u001b[0mlen\u001b[0m\u001b[0;34m(\u001b[0m\u001b[0mall_labels\u001b[0m\u001b[0;34m)\u001b[0m \u001b[0;34m>\u001b[0m \u001b[0;36m1\u001b[0m\u001b[0;34m:\u001b[0m\u001b[0;34m\u001b[0m\u001b[0m\n\u001b[1;32m   2353\u001b[0m             group_index = get_group_index(all_labels, self.shape,\n",
      "\u001b[0;32m/usr/local/lib/python3.5/dist-packages/pandas/core/groupby/groupby.py\u001b[0m in \u001b[0;36mlabels\u001b[0;34m(self)\u001b[0m\n\u001b[1;32m   3068\u001b[0m     \u001b[0;32mdef\u001b[0m \u001b[0mlabels\u001b[0m\u001b[0;34m(\u001b[0m\u001b[0mself\u001b[0m\u001b[0;34m)\u001b[0m\u001b[0;34m:\u001b[0m\u001b[0;34m\u001b[0m\u001b[0m\n\u001b[1;32m   3069\u001b[0m         \u001b[0;32mif\u001b[0m \u001b[0mself\u001b[0m\u001b[0;34m.\u001b[0m\u001b[0m_labels\u001b[0m \u001b[0;32mis\u001b[0m \u001b[0;32mNone\u001b[0m\u001b[0;34m:\u001b[0m\u001b[0;34m\u001b[0m\u001b[0m\n\u001b[0;32m-> 3070\u001b[0;31m             \u001b[0mself\u001b[0m\u001b[0;34m.\u001b[0m\u001b[0m_make_labels\u001b[0m\u001b[0;34m(\u001b[0m\u001b[0;34m)\u001b[0m\u001b[0;34m\u001b[0m\u001b[0m\n\u001b[0m\u001b[1;32m   3071\u001b[0m         \u001b[0;32mreturn\u001b[0m \u001b[0mself\u001b[0m\u001b[0;34m.\u001b[0m\u001b[0m_labels\u001b[0m\u001b[0;34m\u001b[0m\u001b[0m\n\u001b[1;32m   3072\u001b[0m \u001b[0;34m\u001b[0m\u001b[0m\n",
      "\u001b[0;32m/usr/local/lib/python3.5/dist-packages/pandas/core/groupby/groupby.py\u001b[0m in \u001b[0;36m_make_labels\u001b[0;34m(self)\u001b[0m\n\u001b[1;32m   3101\u001b[0m             \u001b[0;32melse\u001b[0m\u001b[0;34m:\u001b[0m\u001b[0;34m\u001b[0m\u001b[0m\n\u001b[1;32m   3102\u001b[0m                 labels, uniques = algorithms.factorize(\n\u001b[0;32m-> 3103\u001b[0;31m                     self.grouper, sort=self.sort)\n\u001b[0m\u001b[1;32m   3104\u001b[0m                 \u001b[0muniques\u001b[0m \u001b[0;34m=\u001b[0m \u001b[0mIndex\u001b[0m\u001b[0;34m(\u001b[0m\u001b[0muniques\u001b[0m\u001b[0;34m,\u001b[0m \u001b[0mname\u001b[0m\u001b[0;34m=\u001b[0m\u001b[0mself\u001b[0m\u001b[0;34m.\u001b[0m\u001b[0mname\u001b[0m\u001b[0;34m)\u001b[0m\u001b[0;34m\u001b[0m\u001b[0m\n\u001b[1;32m   3105\u001b[0m             \u001b[0mself\u001b[0m\u001b[0;34m.\u001b[0m\u001b[0m_labels\u001b[0m \u001b[0;34m=\u001b[0m \u001b[0mlabels\u001b[0m\u001b[0;34m\u001b[0m\u001b[0m\n",
      "\u001b[0;32m/usr/local/lib/python3.5/dist-packages/pandas/util/_decorators.py\u001b[0m in \u001b[0;36mwrapper\u001b[0;34m(*args, **kwargs)\u001b[0m\n\u001b[1;32m    176\u001b[0m                 \u001b[0;32melse\u001b[0m\u001b[0;34m:\u001b[0m\u001b[0;34m\u001b[0m\u001b[0m\n\u001b[1;32m    177\u001b[0m                     \u001b[0mkwargs\u001b[0m\u001b[0;34m[\u001b[0m\u001b[0mnew_arg_name\u001b[0m\u001b[0;34m]\u001b[0m \u001b[0;34m=\u001b[0m \u001b[0mnew_arg_value\u001b[0m\u001b[0;34m\u001b[0m\u001b[0m\n\u001b[0;32m--> 178\u001b[0;31m             \u001b[0;32mreturn\u001b[0m \u001b[0mfunc\u001b[0m\u001b[0;34m(\u001b[0m\u001b[0;34m*\u001b[0m\u001b[0margs\u001b[0m\u001b[0;34m,\u001b[0m \u001b[0;34m**\u001b[0m\u001b[0mkwargs\u001b[0m\u001b[0;34m)\u001b[0m\u001b[0;34m\u001b[0m\u001b[0m\n\u001b[0m\u001b[1;32m    179\u001b[0m         \u001b[0;32mreturn\u001b[0m \u001b[0mwrapper\u001b[0m\u001b[0;34m\u001b[0m\u001b[0m\n\u001b[1;32m    180\u001b[0m     \u001b[0;32mreturn\u001b[0m \u001b[0m_deprecate_kwarg\u001b[0m\u001b[0;34m\u001b[0m\u001b[0m\n",
      "\u001b[0;32m/usr/local/lib/python3.5/dist-packages/pandas/core/algorithms.py\u001b[0m in \u001b[0;36mfactorize\u001b[0;34m(values, sort, order, na_sentinel, size_hint)\u001b[0m\n\u001b[1;32m    628\u001b[0m                                            \u001b[0mna_sentinel\u001b[0m\u001b[0;34m=\u001b[0m\u001b[0mna_sentinel\u001b[0m\u001b[0;34m,\u001b[0m\u001b[0;34m\u001b[0m\u001b[0m\n\u001b[1;32m    629\u001b[0m                                            \u001b[0msize_hint\u001b[0m\u001b[0;34m=\u001b[0m\u001b[0msize_hint\u001b[0m\u001b[0;34m,\u001b[0m\u001b[0;34m\u001b[0m\u001b[0m\n\u001b[0;32m--> 630\u001b[0;31m                                            na_value=na_value)\n\u001b[0m\u001b[1;32m    631\u001b[0m \u001b[0;34m\u001b[0m\u001b[0m\n\u001b[1;32m    632\u001b[0m     \u001b[0;32mif\u001b[0m \u001b[0msort\u001b[0m \u001b[0;32mand\u001b[0m \u001b[0mlen\u001b[0m\u001b[0;34m(\u001b[0m\u001b[0muniques\u001b[0m\u001b[0;34m)\u001b[0m \u001b[0;34m>\u001b[0m \u001b[0;36m0\u001b[0m\u001b[0;34m:\u001b[0m\u001b[0;34m\u001b[0m\u001b[0m\n",
      "\u001b[0;32m/usr/local/lib/python3.5/dist-packages/pandas/core/algorithms.py\u001b[0m in \u001b[0;36m_factorize_array\u001b[0;34m(values, na_sentinel, size_hint, na_value)\u001b[0m\n\u001b[1;32m    474\u001b[0m     \u001b[0muniques\u001b[0m \u001b[0;34m=\u001b[0m \u001b[0mvec_klass\u001b[0m\u001b[0;34m(\u001b[0m\u001b[0;34m)\u001b[0m\u001b[0;34m\u001b[0m\u001b[0m\n\u001b[1;32m    475\u001b[0m     labels = table.get_labels(values, uniques, 0, na_sentinel,\n\u001b[0;32m--> 476\u001b[0;31m                               na_value=na_value)\n\u001b[0m\u001b[1;32m    477\u001b[0m \u001b[0;34m\u001b[0m\u001b[0m\n\u001b[1;32m    478\u001b[0m     \u001b[0mlabels\u001b[0m \u001b[0;34m=\u001b[0m \u001b[0m_ensure_platform_int\u001b[0m\u001b[0;34m(\u001b[0m\u001b[0mlabels\u001b[0m\u001b[0;34m)\u001b[0m\u001b[0;34m\u001b[0m\u001b[0m\n",
      "\u001b[0;32mpandas/_libs/hashtable_class_helper.pxi\u001b[0m in \u001b[0;36mpandas._libs.hashtable.UInt64HashTable.get_labels\u001b[0;34m()\u001b[0m\n",
      "\u001b[0;32m/usr/local/lib/python3.5/dist-packages/numpy/core/numeric.py\u001b[0m in \u001b[0;36masarray\u001b[0;34m(a, dtype, order)\u001b[0m\n\u001b[1;32m    431\u001b[0m \u001b[0;34m\u001b[0m\u001b[0m\n\u001b[1;32m    432\u001b[0m \u001b[0;34m\u001b[0m\u001b[0m\n\u001b[0;32m--> 433\u001b[0;31m \u001b[0;32mdef\u001b[0m \u001b[0masarray\u001b[0m\u001b[0;34m(\u001b[0m\u001b[0ma\u001b[0m\u001b[0;34m,\u001b[0m \u001b[0mdtype\u001b[0m\u001b[0;34m=\u001b[0m\u001b[0;32mNone\u001b[0m\u001b[0;34m,\u001b[0m \u001b[0morder\u001b[0m\u001b[0;34m=\u001b[0m\u001b[0;32mNone\u001b[0m\u001b[0;34m)\u001b[0m\u001b[0;34m:\u001b[0m\u001b[0;34m\u001b[0m\u001b[0m\n\u001b[0m\u001b[1;32m    434\u001b[0m     \"\"\"Convert the input to an array.\n\u001b[1;32m    435\u001b[0m \u001b[0;34m\u001b[0m\u001b[0m\n",
      "\u001b[0;31mKeyboardInterrupt\u001b[0m: "
     ]
    }
   ],
   "source": [
    "pd.set_option('max_columns', None)\n",
    "pd.set_option('max_rows', None)\n",
    "\n",
    "train.groupby(['file_id', 'tid'])['api'].apply(lambda s: ' '.join([str(v) for v in s[s.shift() != s]]))"
   ]
  },
  {
   "cell_type": "code",
   "execution_count": 4,
   "metadata": {},
   "outputs": [],
   "source": [
    "features, labels = gen_features_label(pd.concat([train, test], axis = 0, sort = False))"
   ]
  },
  {
   "cell_type": "code",
   "execution_count": 23,
   "metadata": {},
   "outputs": [],
   "source": [
    "train_features = api_features[:train_row]\n",
    "test_features = api_features[train_row:]\n",
    "train_labels = labels #[:train_row]\n",
    "# del features"
   ]
  },
  {
   "cell_type": "code",
   "execution_count": 26,
   "metadata": {},
   "outputs": [
    {
     "data": {
      "text/plain": [
       "(30348, 622)"
      ]
     },
     "execution_count": 26,
     "metadata": {},
     "output_type": "execute_result"
    }
   ],
   "source": [
    "train_features.shape"
   ]
  },
  {
   "cell_type": "code",
   "execution_count": 279,
   "metadata": {},
   "outputs": [
    {
     "data": {
      "text/plain": [
       "array([5., 0., 2., 3., 1., 4.])"
      ]
     },
     "execution_count": 279,
     "metadata": {},
     "output_type": "execute_result"
    }
   ],
   "source": [
    "train_labels.unique()"
   ]
  },
  {
   "cell_type": "code",
   "execution_count": 12,
   "metadata": {},
   "outputs": [],
   "source": [
    "import pickle\n",
    "\n",
    "with open(path + 'train_test_api_counts_tfidf.pickle', 'wb+') as handle:\n",
    "    pickle.dump(features, handle, protocol=pickle.HIGHEST_PROTOCOL)\n",
    "# del train\n",
    "# del train_features\n",
    "# test = pd.read_csv(path + 'test_api_id.csv')\n",
    "# test_api_counts, _ = gen_features_label(test)\n",
    "# with open(path + 'test_api_counts.pickle', 'wb+') as handle:\n",
    "#     pickle.dump(test_api_counts, handle, protocol=pickle.HIGHEST_PROTOCOL)"
   ]
  },
  {
   "cell_type": "code",
   "execution_count": 15,
   "metadata": {},
   "outputs": [
    {
     "name": "stdout",
     "output_type": "stream",
     "text": [
      "[1.   1.   1.   ... 3.68 3.68 3.68]\n"
     ]
    }
   ],
   "source": []
  },
  {
   "cell_type": "code",
   "execution_count": 28,
   "metadata": {},
   "outputs": [
    {
     "data": {
      "text/plain": [
       "622"
      ]
     },
     "execution_count": 28,
     "metadata": {},
     "output_type": "execute_result"
    }
   ],
   "source": [
    "len(FEATURE_LIST)"
   ]
  },
  {
   "cell_type": "code",
   "execution_count": 24,
   "metadata": {},
   "outputs": [
    {
     "name": "stdout",
     "output_type": "stream",
     "text": [
      "Epoch:  0\n"
     ]
    },
    {
     "name": "stderr",
     "output_type": "stream",
     "text": [
      "/usr/local/lib/python3.5/dist-packages/lightgbm/engine.py:104: UserWarning: Found `early_stopping_round` in params. Will use it instead of argument\n",
      "  warnings.warn(\"Found `{}` in params. Will use it instead of argument\".format(alias))\n"
     ]
    },
    {
     "name": "stdout",
     "output_type": "stream",
     "text": [
      "Training until validation scores don't improve for 100 rounds.\n",
      "[200]\ttraining's multi_logloss: 0.223687\tvalid_1's multi_logloss: 0.224795\n",
      "[400]\ttraining's multi_logloss: 0.057545\tvalid_1's multi_logloss: 0.0614042\n",
      "[600]\ttraining's multi_logloss: 0.0268937\tvalid_1's multi_logloss: 0.0347435\n",
      "[800]\ttraining's multi_logloss: 0.0170623\tvalid_1's multi_logloss: 0.0283207\n",
      "[1000]\ttraining's multi_logloss: 0.012481\tvalid_1's multi_logloss: 0.0262964\n",
      "[1200]\ttraining's multi_logloss: 0.00968108\tvalid_1's multi_logloss: 0.0255073\n",
      "[1400]\ttraining's multi_logloss: 0.00785238\tvalid_1's multi_logloss: 0.0252982\n",
      "Early stopping, best iteration is:\n",
      "[1405]\ttraining's multi_logloss: 0.00781179\tvalid_1's multi_logloss: 0.0252802\n",
      "Epoch:  1\n",
      "Training until validation scores don't improve for 100 rounds.\n",
      "[200]\ttraining's multi_logloss: 0.22298\tvalid_1's multi_logloss: 0.225826\n"
     ]
    },
    {
     "ename": "KeyboardInterrupt",
     "evalue": "",
     "output_type": "error",
     "traceback": [
      "\u001b[0;31m---------------------------------------------------------------------------\u001b[0m",
      "\u001b[0;31mKeyboardInterrupt\u001b[0m                         Traceback (most recent call last)",
      "\u001b[0;32m<ipython-input-24-59fa60bf0218>\u001b[0m in \u001b[0;36m<module>\u001b[0;34m()\u001b[0m\n\u001b[1;32m     42\u001b[0m                 \u001b[0mvalid_sets\u001b[0m \u001b[0;34m=\u001b[0m \u001b[0;34m[\u001b[0m\u001b[0md_train\u001b[0m\u001b[0;34m,\u001b[0m \u001b[0md_valide\u001b[0m\u001b[0;34m]\u001b[0m\u001b[0;34m,\u001b[0m\u001b[0;34m\u001b[0m\u001b[0m\n\u001b[1;32m     43\u001b[0m                 \u001b[0mverbose_eval\u001b[0m\u001b[0;34m=\u001b[0m\u001b[0;36m200\u001b[0m\u001b[0;34m,\u001b[0m\u001b[0;34m\u001b[0m\u001b[0m\n\u001b[0;32m---> 44\u001b[0;31m                  num_boost_round = 3000)\n\u001b[0m\u001b[1;32m     45\u001b[0m     \u001b[0mpred\u001b[0m \u001b[0;34m+=\u001b[0m \u001b[0mmodel\u001b[0m\u001b[0;34m.\u001b[0m\u001b[0mpredict\u001b[0m\u001b[0;34m(\u001b[0m\u001b[0mtest_features\u001b[0m\u001b[0;34m,\u001b[0m \u001b[0mnum_iteration\u001b[0m\u001b[0;34m=\u001b[0m\u001b[0mmodel\u001b[0m\u001b[0;34m.\u001b[0m\u001b[0mbest_iteration\u001b[0m\u001b[0;34m)\u001b[0m\u001b[0;34m\u001b[0m\u001b[0m\n\u001b[1;32m     46\u001b[0m \u001b[0mpred\u001b[0m \u001b[0;34m/=\u001b[0m \u001b[0mfolds\u001b[0m\u001b[0;34m\u001b[0m\u001b[0m\n",
      "\u001b[0;32m/usr/local/lib/python3.5/dist-packages/lightgbm/engine.py\u001b[0m in \u001b[0;36mtrain\u001b[0;34m(params, train_set, num_boost_round, valid_sets, valid_names, fobj, feval, init_model, feature_name, categorical_feature, early_stopping_rounds, evals_result, verbose_eval, learning_rates, keep_training_booster, callbacks)\u001b[0m\n\u001b[1;32m    197\u001b[0m                                     evaluation_result_list=None))\n\u001b[1;32m    198\u001b[0m \u001b[0;34m\u001b[0m\u001b[0m\n\u001b[0;32m--> 199\u001b[0;31m         \u001b[0mbooster\u001b[0m\u001b[0;34m.\u001b[0m\u001b[0mupdate\u001b[0m\u001b[0;34m(\u001b[0m\u001b[0mfobj\u001b[0m\u001b[0;34m=\u001b[0m\u001b[0mfobj\u001b[0m\u001b[0;34m)\u001b[0m\u001b[0;34m\u001b[0m\u001b[0m\n\u001b[0m\u001b[1;32m    200\u001b[0m \u001b[0;34m\u001b[0m\u001b[0m\n\u001b[1;32m    201\u001b[0m         \u001b[0mevaluation_result_list\u001b[0m \u001b[0;34m=\u001b[0m \u001b[0;34m[\u001b[0m\u001b[0;34m]\u001b[0m\u001b[0;34m\u001b[0m\u001b[0m\n",
      "\u001b[0;32m/usr/local/lib/python3.5/dist-packages/lightgbm/basic.py\u001b[0m in \u001b[0;36mupdate\u001b[0;34m(self, train_set, fobj)\u001b[0m\n\u001b[1;32m   1505\u001b[0m             _safe_call(_LIB.LGBM_BoosterUpdateOneIter(\n\u001b[1;32m   1506\u001b[0m                 \u001b[0mself\u001b[0m\u001b[0;34m.\u001b[0m\u001b[0mhandle\u001b[0m\u001b[0;34m,\u001b[0m\u001b[0;34m\u001b[0m\u001b[0m\n\u001b[0;32m-> 1507\u001b[0;31m                 ctypes.byref(is_finished)))\n\u001b[0m\u001b[1;32m   1508\u001b[0m             \u001b[0mself\u001b[0m\u001b[0;34m.\u001b[0m\u001b[0m__is_predicted_cur_iter\u001b[0m \u001b[0;34m=\u001b[0m \u001b[0;34m[\u001b[0m\u001b[0;32mFalse\u001b[0m \u001b[0;32mfor\u001b[0m \u001b[0m_\u001b[0m \u001b[0;32min\u001b[0m \u001b[0mrange_\u001b[0m\u001b[0;34m(\u001b[0m\u001b[0mself\u001b[0m\u001b[0;34m.\u001b[0m\u001b[0m__num_dataset\u001b[0m\u001b[0;34m)\u001b[0m\u001b[0;34m]\u001b[0m\u001b[0;34m\u001b[0m\u001b[0m\n\u001b[1;32m   1509\u001b[0m             \u001b[0;32mreturn\u001b[0m \u001b[0mis_finished\u001b[0m\u001b[0;34m.\u001b[0m\u001b[0mvalue\u001b[0m \u001b[0;34m==\u001b[0m \u001b[0;36m1\u001b[0m\u001b[0;34m\u001b[0m\u001b[0m\n",
      "\u001b[0;31mKeyboardInterrupt\u001b[0m: "
     ]
    }
   ],
   "source": [
    "folds = 5\n",
    "kf = model_selection.KFold(n_splits=folds, shuffle=False)\n",
    "fold = 0\n",
    "pred = np.zeros((test_features.shape[0], 6))\n",
    "for train_index, test_index in kf.split(train_labels):\n",
    "    print ('Epoch: ', fold)\n",
    "    params = {\n",
    "    # 'num_leaves':-1,\n",
    "        'task': 'train',\n",
    "        'min_sum_hessian_in_leaf':None,\n",
    "        'max_depth':7,\n",
    "        'learning_rate':0.01,\n",
    "        'feature_fraction':0.8,\n",
    "        'verbose':-1,\n",
    "        'objective': 'multiclass',\n",
    "        'num_class':6,\n",
    "        'metric': 'multi_logloss',\n",
    "    #     'num_boost_round':200,\n",
    "        'drop_rate':None,\n",
    "        'bagging_fraction':0.6,\n",
    "        'bagging_freq':5,\n",
    "        'early_stopping_round':100,\n",
    "        # 'min_data_in_leaf':100,\n",
    "    #     'max_bin': None,\n",
    "        'scale_pos_weight':None,\n",
    "    }\n",
    "    FEATURE_LIST = ['api_cnt_svd_' + str(i) for i in range(train_features.shape[1])] #list(apis['api'].values) + list((apis['api'] + '_tfidf').values)\n",
    "    folds = 5\n",
    "    instance_weight = np.ones(train_row)\n",
    "    instance_weight[train_labels == 0] = 1.99\n",
    "#     print (instance_weight)\n",
    "    fold += 1\n",
    "    train_part, valide_part = train_features[train_index], train_features[test_index]\n",
    "    train_part_label, valide_part_label = train_labels.values[train_index], train_labels.values[test_index]\n",
    "    train_instance_weight, valide_instance_weight = instance_weight[train_index], instance_weight[test_index]\n",
    "    \n",
    "    d_train = lgb.Dataset(train_part, label=train_part_label, feature_name = FEATURE_LIST, weight = train_instance_weight)\n",
    "    d_valide = lgb.Dataset(valide_part, label=valide_part_label, feature_name = FEATURE_LIST, weight = valide_instance_weight)\n",
    "    \n",
    "    model = lgb.train(params, \n",
    "                d_train, \n",
    "                valid_sets = [d_train, d_valide], \n",
    "                verbose_eval=200,\n",
    "                 num_boost_round = 3000)\n",
    "    pred += model.predict(test_features, num_iteration=model.best_iteration)\n",
    "pred /= folds"
   ]
  },
  {
   "cell_type": "code",
   "execution_count": 18,
   "metadata": {},
   "outputs": [],
   "source": [
    "columns = ['prob' + str(i) for i in range(6)]\n",
    "sub = pd.DataFrame(pred, columns = columns)\n",
    "sub.index.name = 'file_id'\n",
    "sub.to_csv(path + 'submission_posweight_199_5folds_api_counts_tfidf.csv')"
   ]
  },
  {
   "cell_type": "code",
   "execution_count": null,
   "metadata": {},
   "outputs": [],
   "source": [
    "with open(path + 'train_test_api_strs_consec_dup_by_tid.pickle', 'rb') as handle:\n",
    "    tid_features = pickle.load(handle)"
   ]
  },
  {
   "cell_type": "code",
   "execution_count": null,
   "metadata": {},
   "outputs": [],
   "source": []
  },
  {
   "cell_type": "code",
   "execution_count": null,
   "metadata": {},
   "outputs": [],
   "source": [
    "tid_features_len = tid_features.apply(lambda s: len(s.split(' ')))"
   ]
  },
  {
   "cell_type": "code",
   "execution_count": 82,
   "metadata": {},
   "outputs": [
    {
     "name": "stdout",
     "output_type": "stream",
     "text": [
      "12276 1 16.0 210.20973086771295\n"
     ]
    }
   ],
   "source": [
    "print (tid_features_len.max(), tid_features_len.min(), tid_features_len.median(), tid_features_len.mean())"
   ]
  },
  {
   "cell_type": "code",
   "execution_count": 89,
   "metadata": {},
   "outputs": [],
   "source": [
    "tid_len = tid_features.groupby('file_id').apply(lambda s: s.shape[0])"
   ]
  },
  {
   "cell_type": "code",
   "execution_count": 90,
   "metadata": {},
   "outputs": [
    {
     "name": "stdout",
     "output_type": "stream",
     "text": [
      "2474 1 3.0 8.686952457425006\n"
     ]
    }
   ],
   "source": [
    "print (tid_len.max(), tid_len.min(), tid_len.median(), tid_len.mean())"
   ]
  },
  {
   "cell_type": "code",
   "execution_count": 1,
   "metadata": {},
   "outputs": [
    {
     "name": "stderr",
     "output_type": "stream",
     "text": [
      "/usr/local/lib/python3.5/dist-packages/sklearn/cross_validation.py:41: DeprecationWarning: This module was deprecated in version 0.18 in favor of the model_selection module into which all the refactored classes and functions are moved. Also note that the interface of the new CV iterators are different from that of this module. This module will be removed in 0.20.\n",
      "  \"This module will be removed in 0.20.\", DeprecationWarning)\n",
      "/usr/local/lib/python3.5/dist-packages/sklearn/grid_search.py:42: DeprecationWarning: This module was deprecated in version 0.18 in favor of the model_selection module into which all the refactored classes and functions are moved. This module will be removed in 0.20.\n",
      "  DeprecationWarning)\n",
      "/usr/local/lib/python3.5/dist-packages/sklearn/learning_curve.py:22: DeprecationWarning: This module was deprecated in version 0.18 in favor of the model_selection module into which all the functions are moved. This module will be removed in 0.20\n",
      "  DeprecationWarning)\n"
     ]
    }
   ],
   "source": [
    "import pandas as pd\n",
    "import lightgbm as lgb\n",
    "from sklearn import *\n",
    "import numpy as np\n",
    "# import matplotlib.pyplot as plt\n",
    "import os\n",
    "import pickle \n",
    "\n",
    "path = '../Data/'\n",
    "with open(path + 'full_train_api_strs_rm_cons_dup.pickle', 'rb') as handle:\n",
    "    features = pickle.load(handle)\n",
    "#     features = features.values\n",
    "# with open(path + 'train_pos10_test_api_counts_tfidf_rm_consec_dup.pickle', 'rb') as handle:\n",
    "#     features = pickle.load(handle)\n",
    "\n",
    "with open(path + 'full_train_labels.pickle', 'rb') as handle:\n",
    "    labels = pickle.load(handle)"
   ]
  },
  {
   "cell_type": "code",
   "execution_count": 25,
   "metadata": {},
   "outputs": [],
   "source": [
    "with open(path + 'full_test_api_strs_rm_cons_dup.pickle', 'rb') as handle:\n",
    "    test_features = pickle.load(handle)"
   ]
  },
  {
   "cell_type": "code",
   "execution_count": 9,
   "metadata": {},
   "outputs": [
    {
     "data": {
      "text/plain": [
       "116624"
      ]
     },
     "execution_count": 9,
     "metadata": {},
     "output_type": "execute_result"
    }
   ],
   "source": [
    "labels.shape[0]"
   ]
  },
  {
   "cell_type": "code",
   "execution_count": null,
   "metadata": {},
   "outputs": [],
   "source": [
    "print (len_s.max(), len_s.min(), len_s.median(), len_s.mean())"
   ]
  },
  {
   "cell_type": "code",
   "execution_count": 8,
   "metadata": {},
   "outputs": [
    {
     "data": {
      "text/plain": [
       "1.1195904"
      ]
     },
     "execution_count": 8,
     "metadata": {},
     "output_type": "execute_result"
    }
   ],
   "source": [
    "116624 * 2400 * 4 / 1e9"
   ]
  },
  {
   "cell_type": "code",
   "execution_count": 7,
   "metadata": {},
   "outputs": [
    {
     "data": {
      "text/plain": [
       "(116624, 2400)"
      ]
     },
     "execution_count": 7,
     "metadata": {},
     "output_type": "execute_result"
    }
   ],
   "source": [
    "rnn_data.shape"
   ]
  },
  {
   "cell_type": "code",
   "execution_count": 3,
   "metadata": {},
   "outputs": [
    {
     "name": "stdout",
     "output_type": "stream",
     "text": [
      "Tokenizer...\n"
     ]
    }
   ],
   "source": [
    "rnn_data = tokenizer(features)"
   ]
  },
  {
   "cell_type": "code",
   "execution_count": 26,
   "metadata": {},
   "outputs": [
    {
     "name": "stdout",
     "output_type": "stream",
     "text": [
      "Tokenizer...\n"
     ]
    }
   ],
   "source": [
    "test_features = tokenizer(test_features)"
   ]
  },
  {
   "cell_type": "code",
   "execution_count": 98,
   "metadata": {},
   "outputs": [],
   "source": [
    "rnn_data_df = pd.DataFrame(rnn_data, index = tid_features.index)"
   ]
  },
  {
   "cell_type": "code",
   "execution_count": 99,
   "metadata": {},
   "outputs": [
    {
     "data": {
      "text/html": [
       "<div>\n",
       "<style scoped>\n",
       "    .dataframe tbody tr th:only-of-type {\n",
       "        vertical-align: middle;\n",
       "    }\n",
       "\n",
       "    .dataframe tbody tr th {\n",
       "        vertical-align: top;\n",
       "    }\n",
       "\n",
       "    .dataframe thead th {\n",
       "        text-align: right;\n",
       "    }\n",
       "</style>\n",
       "<table border=\"1\" class=\"dataframe\">\n",
       "  <thead>\n",
       "    <tr style=\"text-align: right;\">\n",
       "      <th></th>\n",
       "      <th></th>\n",
       "      <th>0</th>\n",
       "      <th>1</th>\n",
       "      <th>2</th>\n",
       "      <th>3</th>\n",
       "      <th>4</th>\n",
       "      <th>5</th>\n",
       "      <th>6</th>\n",
       "      <th>7</th>\n",
       "      <th>8</th>\n",
       "      <th>9</th>\n",
       "      <th>...</th>\n",
       "      <th>190</th>\n",
       "      <th>191</th>\n",
       "      <th>192</th>\n",
       "      <th>193</th>\n",
       "      <th>194</th>\n",
       "      <th>195</th>\n",
       "      <th>196</th>\n",
       "      <th>197</th>\n",
       "      <th>198</th>\n",
       "      <th>199</th>\n",
       "    </tr>\n",
       "    <tr>\n",
       "      <th>file_id</th>\n",
       "      <th>tid</th>\n",
       "      <th></th>\n",
       "      <th></th>\n",
       "      <th></th>\n",
       "      <th></th>\n",
       "      <th></th>\n",
       "      <th></th>\n",
       "      <th></th>\n",
       "      <th></th>\n",
       "      <th></th>\n",
       "      <th></th>\n",
       "      <th></th>\n",
       "      <th></th>\n",
       "      <th></th>\n",
       "      <th></th>\n",
       "      <th></th>\n",
       "      <th></th>\n",
       "      <th></th>\n",
       "      <th></th>\n",
       "      <th></th>\n",
       "      <th></th>\n",
       "      <th></th>\n",
       "    </tr>\n",
       "  </thead>\n",
       "  <tbody>\n",
       "    <tr>\n",
       "      <th>1</th>\n",
       "      <th>2524</th>\n",
       "      <td>0</td>\n",
       "      <td>0</td>\n",
       "      <td>0</td>\n",
       "      <td>0</td>\n",
       "      <td>0</td>\n",
       "      <td>0</td>\n",
       "      <td>0</td>\n",
       "      <td>0</td>\n",
       "      <td>0</td>\n",
       "      <td>0</td>\n",
       "      <td>...</td>\n",
       "      <td>0</td>\n",
       "      <td>0</td>\n",
       "      <td>0</td>\n",
       "      <td>0</td>\n",
       "      <td>0</td>\n",
       "      <td>0</td>\n",
       "      <td>0</td>\n",
       "      <td>0</td>\n",
       "      <td>79</td>\n",
       "      <td>76</td>\n",
       "    </tr>\n",
       "    <tr>\n",
       "      <th>2</th>\n",
       "      <th>2516</th>\n",
       "      <td>0</td>\n",
       "      <td>0</td>\n",
       "      <td>0</td>\n",
       "      <td>0</td>\n",
       "      <td>0</td>\n",
       "      <td>0</td>\n",
       "      <td>0</td>\n",
       "      <td>0</td>\n",
       "      <td>0</td>\n",
       "      <td>0</td>\n",
       "      <td>...</td>\n",
       "      <td>76</td>\n",
       "      <td>1</td>\n",
       "      <td>30</td>\n",
       "      <td>1</td>\n",
       "      <td>20</td>\n",
       "      <td>1</td>\n",
       "      <td>14</td>\n",
       "      <td>7</td>\n",
       "      <td>1</td>\n",
       "      <td>76</td>\n",
       "    </tr>\n",
       "    <tr>\n",
       "      <th rowspan=\"3\" valign=\"top\">3</th>\n",
       "      <th>2508</th>\n",
       "      <td>19</td>\n",
       "      <td>16</td>\n",
       "      <td>19</td>\n",
       "      <td>16</td>\n",
       "      <td>29</td>\n",
       "      <td>9</td>\n",
       "      <td>4</td>\n",
       "      <td>85</td>\n",
       "      <td>11</td>\n",
       "      <td>4</td>\n",
       "      <td>...</td>\n",
       "      <td>17</td>\n",
       "      <td>19</td>\n",
       "      <td>16</td>\n",
       "      <td>19</td>\n",
       "      <td>16</td>\n",
       "      <td>34</td>\n",
       "      <td>87</td>\n",
       "      <td>34</td>\n",
       "      <td>27</td>\n",
       "      <td>34</td>\n",
       "    </tr>\n",
       "    <tr>\n",
       "      <th>2732</th>\n",
       "      <td>0</td>\n",
       "      <td>0</td>\n",
       "      <td>0</td>\n",
       "      <td>0</td>\n",
       "      <td>0</td>\n",
       "      <td>0</td>\n",
       "      <td>0</td>\n",
       "      <td>0</td>\n",
       "      <td>0</td>\n",
       "      <td>0</td>\n",
       "      <td>...</td>\n",
       "      <td>110</td>\n",
       "      <td>1</td>\n",
       "      <td>20</td>\n",
       "      <td>76</td>\n",
       "      <td>1</td>\n",
       "      <td>44</td>\n",
       "      <td>14</td>\n",
       "      <td>7</td>\n",
       "      <td>1</td>\n",
       "      <td>76</td>\n",
       "    </tr>\n",
       "    <tr>\n",
       "      <th>2844</th>\n",
       "      <td>0</td>\n",
       "      <td>0</td>\n",
       "      <td>0</td>\n",
       "      <td>0</td>\n",
       "      <td>0</td>\n",
       "      <td>0</td>\n",
       "      <td>0</td>\n",
       "      <td>0</td>\n",
       "      <td>0</td>\n",
       "      <td>0</td>\n",
       "      <td>...</td>\n",
       "      <td>0</td>\n",
       "      <td>0</td>\n",
       "      <td>0</td>\n",
       "      <td>0</td>\n",
       "      <td>0</td>\n",
       "      <td>0</td>\n",
       "      <td>0</td>\n",
       "      <td>0</td>\n",
       "      <td>44</td>\n",
       "      <td>1</td>\n",
       "    </tr>\n",
       "  </tbody>\n",
       "</table>\n",
       "<p>5 rows × 200 columns</p>\n",
       "</div>"
      ],
      "text/plain": [
       "              0    1    2    3    4    5    6    7    8    9   ...   190  191  \\\n",
       "file_id tid                                                    ...              \n",
       "1       2524    0    0    0    0    0    0    0    0    0    0 ...     0    0   \n",
       "2       2516    0    0    0    0    0    0    0    0    0    0 ...    76    1   \n",
       "3       2508   19   16   19   16   29    9    4   85   11    4 ...    17   19   \n",
       "        2732    0    0    0    0    0    0    0    0    0    0 ...   110    1   \n",
       "        2844    0    0    0    0    0    0    0    0    0    0 ...     0    0   \n",
       "\n",
       "              192  193  194  195  196  197  198  199  \n",
       "file_id tid                                           \n",
       "1       2524    0    0    0    0    0    0   79   76  \n",
       "2       2516   30    1   20    1   14    7    1   76  \n",
       "3       2508   16   19   16   34   87   34   27   34  \n",
       "        2732   20   76    1   44   14    7    1   76  \n",
       "        2844    0    0    0    0    0    0   44    1  \n",
       "\n",
       "[5 rows x 200 columns]"
      ]
     },
     "execution_count": 99,
     "metadata": {},
     "output_type": "execute_result"
    }
   ],
   "source": [
    "rnn_data_df.head()"
   ]
  },
  {
   "cell_type": "code",
   "execution_count": 119,
   "metadata": {},
   "outputs": [
    {
     "data": {
      "text/plain": [
       "(132, 8, 200)"
      ]
     },
     "execution_count": 119,
     "metadata": {},
     "output_type": "execute_result"
    }
   ],
   "source": [
    "pad_sequences(rnn_data_df[:1000].groupby('file_id').apply(lambda s: np.c_[s].flatten()).values, maxlen =1600).reshape(-1, 8, 200).shape"
   ]
  },
  {
   "cell_type": "code",
   "execution_count": 230,
   "metadata": {},
   "outputs": [],
   "source": [
    "scaler = preprocessing.MinMaxScaler()\n",
    "features = scaler.fit_transform(features)\n",
    "# train_features = features[:train_row] #rnn_data[:train_row]\n",
    "# test_data = rnn_data[train_row:]"
   ]
  },
  {
   "cell_type": "code",
   "execution_count": 161,
   "metadata": {},
   "outputs": [
    {
     "data": {
      "text/plain": [
       "(5000, 8, 200)"
      ]
     },
     "execution_count": 161,
     "metadata": {},
     "output_type": "execute_result"
    }
   ],
   "source": [
    "train_features.shape"
   ]
  },
  {
   "cell_type": "code",
   "execution_count": 10,
   "metadata": {},
   "outputs": [],
   "source": [
    "train_row = len(labels)\n",
    "train_features = rnn_data[:train_row] #rnn_data[:train_row]\n",
    "enc = preprocessing.OneHotEncoder()\n",
    "train_labels = enc.fit_transform(np.reshape(labels.values[:train_row], (-1, 1))).toarray()\n",
    "instance_weight = np.ones(train_row)\n",
    "instance_weight[labels == 0] = 1.99"
   ]
  },
  {
   "cell_type": "code",
   "execution_count": null,
   "metadata": {},
   "outputs": [
    {
     "name": "stdout",
     "output_type": "stream",
     "text": [
      "Epoch:  0\n",
      "____________________________________________________________________________________________________\n",
      "Layer (type)                     Output Shape          Param #     Connected to                     \n",
      "====================================================================================================\n",
      "input_9 (InputLayer)             (None, 2400)          0                                            \n",
      "____________________________________________________________________________________________________\n",
      "emb (Embedding)                  (None, 2400, 128)     39936       input_9[0][0]                    \n",
      "____________________________________________________________________________________________________\n",
      "spa_dropout (SpatialDropout1D)   (None, 2400, 128)     0           emb[0][0]                        \n",
      "____________________________________________________________________________________________________\n",
      "conv1d_1 (Conv1D)                (None, 1200, 64)      8256        spa_dropout[0][0]                \n",
      "____________________________________________________________________________________________________\n",
      "conv1d_2 (Conv1D)                (None, 1200, 64)      16448       spa_dropout[0][0]                \n",
      "____________________________________________________________________________________________________\n",
      "CNN_CONC (Concatenate)           (None, 1200, 128)     0           conv1d_1[0][0]                   \n",
      "                                                                   conv1d_2[0][0]                   \n",
      "____________________________________________________________________________________________________\n",
      "max_pooling1d_9 (MaxPooling1D)   (None, 60, 128)       0           CNN_CONC[0][0]                   \n",
      "____________________________________________________________________________________________________\n",
      "average_pooling1d_9 (AveragePool (None, 60, 128)       0           CNN_CONC[0][0]                   \n",
      "____________________________________________________________________________________________________\n",
      "CHUNC_CONC (Concatenate)         (None, 60, 256)       0           max_pooling1d_9[0][0]            \n",
      "                                                                   average_pooling1d_9[0][0]        \n",
      "____________________________________________________________________________________________________\n",
      "bidirectional_9 (Bidirectional)  (None, None, 256)     295680      CHUNC_CONC[0][0]                 \n",
      "____________________________________________________________________________________________________\n",
      "global_average_pooling1d_9 (Glob (None, 256)           0           bidirectional_9[0][0]            \n",
      "____________________________________________________________________________________________________\n",
      "global_max_pooling1d_9 (GlobalMa (None, 256)           0           bidirectional_9[0][0]            \n",
      "____________________________________________________________________________________________________\n",
      "concatenate_9 (Concatenate)      (None, 512)           0           global_average_pooling1d_9[0][0] \n",
      "                                                                   global_max_pooling1d_9[0][0]     \n",
      "____________________________________________________________________________________________________\n",
      "RCNN_CONC (Lambda)               (None, 512)           0           concatenate_9[0][0]              \n",
      "____________________________________________________________________________________________________\n",
      "fc_128 (Dense)                   (None, 128)           65664       RCNN_CONC[0][0]                  \n",
      "____________________________________________________________________________________________________\n",
      "fc_64 (Dense)                    (None, 64)            8256        fc_128[0][0]                     \n",
      "____________________________________________________________________________________________________\n",
      "fc_32 (Dense)                    (None, 32)            2080        fc_64[0][0]                      \n",
      "____________________________________________________________________________________________________\n",
      "dense_9 (Dense)                  (None, 6)             198         fc_32[0][0]                      \n",
      "====================================================================================================\n",
      "Total params: 436,518\n",
      "Trainable params: 436,518\n",
      "Non-trainable params: 0\n",
      "____________________________________________________________________________________________________\n",
      "None\n",
      "-----DNN training-----\n",
      "Train on 93299 samples, validate on 23325 samples\n",
      "Epoch 1/100\n",
      "\n",
      " Logloss - epoch: 1 - score: 0.204336 \n",
      "\n",
      "103s - loss: 0.2889 - acc: 0.9399 - val_loss: 0.2043 - val_acc: 0.9575\n",
      "Epoch 2/100\n",
      "\n",
      " Logloss - epoch: 2 - score: 0.106574 \n",
      "\n",
      "101s - loss: 0.1517 - acc: 0.9634 - val_loss: 0.1066 - val_acc: 0.9727\n",
      "Epoch 3/100\n",
      "\n",
      " Logloss - epoch: 3 - score: 0.079162 \n",
      "\n",
      "101s - loss: 0.0993 - acc: 0.9736 - val_loss: 0.0792 - val_acc: 0.9801\n",
      "Epoch 4/100\n",
      "\n",
      " Logloss - epoch: 4 - score: 0.054754 \n",
      "\n",
      "101s - loss: 0.0720 - acc: 0.9810 - val_loss: 0.0548 - val_acc: 0.9859\n",
      "Epoch 5/100\n",
      "\n",
      " Logloss - epoch: 5 - score: 0.048341 \n",
      "\n",
      "101s - loss: 0.0523 - acc: 0.9862 - val_loss: 0.0483 - val_acc: 0.9870\n",
      "Epoch 6/100\n"
     ]
    }
   ],
   "source": [
    "folds = 5\n",
    "kf = model_selection.KFold(n_splits=folds, shuffle=False)\n",
    "fold = 0\n",
    "pred = np.zeros((test_features.shape[0], 6))\n",
    "valid_pred = np.zeros((train_features.shape[0], 6))\n",
    "for train_index, test_index in kf.split(train_labels):\n",
    "    print ('Epoch: ', fold)\n",
    "    train_part, valide_part = train_features[train_index], train_features[test_index]\n",
    "    train_part_label, valide_part_label = train_labels[train_index], train_labels[test_index]\n",
    "    train_instance_weight, valide_instance_weight = instance_weight[train_index], instance_weight[test_index]\n",
    "    \n",
    "    model = DNN_Model()\n",
    "    if fold == 0:\n",
    "        print(model.model.summary())\n",
    "    model.train(train_part, train_part_label, valide_part, valide_part_label)\n",
    "    fold += 1\n",
    "    pred += model.predict(test_features)\n",
    "    valid_pred[test_index] = model.predict(valide_part)\n",
    "pred /= folds\n",
    "pd.DataFrame(valid_pred).to_csv('valid_pred.csv')"
   ]
  },
  {
   "cell_type": "code",
   "execution_count": 31,
   "metadata": {},
   "outputs": [],
   "source": [
    "from tensorflow.python.keras import backend as K\n",
    "from tensorflow.python.keras.layers import Dense, Input, Lambda, LSTM, TimeDistributed, SimpleRNN, \\\n",
    "        GRU, Bidirectional, GlobalAveragePooling1D, GlobalMaxPooling1D, Activation, \\\n",
    "        SpatialDropout1D, Conv2D, Conv1D, Reshape, Flatten, AveragePooling2D, MaxPooling2D, Dropout, AlphaDropout, \\\n",
    "        MaxPooling1D, AveragePooling1D, Embedding, Concatenate, BatchNormalization, Multiply, Add\n",
    "# from tensorflow.python.keras.layers import concatenate\n",
    "from tensorflow.python.keras.models import Model, load_model\n",
    "from tensorflow.python.keras.callbacks import EarlyStopping, Callback\n",
    "from tensorflow.python.keras.regularizers import l1, l2\n",
    "from tensorflow.python.keras.optimizers import SGD, RMSprop, Adam, Nadam\n",
    "from tensorflow.python.keras.losses import mean_squared_error, binary_crossentropy\n",
    "from tensorflow.python.keras.preprocessing.text import Tokenizer, text_to_word_sequence\n",
    "from tensorflow.python.keras.preprocessing.sequence import pad_sequences\n",
    "\n",
    "\n",
    "MAX_TID_LEN = 800\n",
    "MAX_TID_NUM = 4\n",
    "MAX_LEN = 2400 #MAX_TID_LEN * MAX_TID_NUM\n",
    "\n",
    "def tokenizer(data):\n",
    "    print('Tokenizer...')\n",
    "    tokenizer = Tokenizer(num_words = 312)\n",
    "    tokenizer.fit_on_texts(data)\n",
    "    data = pad_sequences(tokenizer.texts_to_sequences(data), maxlen = MAX_LEN)\n",
    "#     data = pd.DataFrame(data, index = tid_features.index)\n",
    "#     data = pad_sequences(data.groupby('file_id').apply(lambda s: np.c_[s].flatten()).values, \n",
    "#                   maxlen = MAX_LEN).reshape(-1, MAX_TID_NUM, MAX_TID_LEN)\n",
    "    return data\n",
    "        \n",
    "class MutiLoglossEvaluation(Callback):\n",
    "    def __init__(self, validation_data=(), interval=1, batch_interval = 1000000, verbose = 2, \\\n",
    "            scores = []):\n",
    "        super(Callback, self).__init__()\n",
    "\n",
    "        self.interval = interval\n",
    "        self.X_val, self.y_val = validation_data\n",
    "        # print(\"y_val shape:{0}\".format(self.y_val.shape))\n",
    "        self.batch_interval = batch_interval\n",
    "        self.verbose = verbose\n",
    "        self.scores = scores\n",
    "\n",
    "    def on_epoch_end(self, epoch, logs={}):\n",
    "        if epoch % self.interval == 0:\n",
    "            y_pred = self.model.predict(self.X_val, verbose=0, batch_size=None)\n",
    "            score = metrics.log_loss(self.y_val, y_pred, sample_weight = None)\n",
    "#             self.scores.append(\"epoch:{0} {1}\".format(epoch + 1, score))\n",
    "            print(\"\\n Logloss - epoch: %d - score: %.6f \\n\" % (epoch+1, score))\n",
    "    \n",
    "    def on_batch_end(self, batch, logs={}):\n",
    "        return\n",
    "        if(self.verbose >= 2) and (batch % self.batch_interval == 0):\n",
    "            # y_pred = self.model.predict(self.X_val, verbose=0)\n",
    "            # loss = metrics.log_loss(self.y_val, y_pred)\n",
    "            print(\"Hi! on_batch_end() , batch=\",batch,\",logs:\",logs)\n",
    "            # print(\"Valide size=\",y_pred.shape[0], \"  Valide loss=\",loss)\n",
    "            \n",
    "class DNN_Model:\n",
    "    \"\"\"\n",
    "    \"\"\"\n",
    "    def __init__(self):\n",
    "        self.hidden_dim = [128, 64, 32]\n",
    "        self.batch_size = 512 #flags.batch_size\n",
    "        self.epochs = 100 #flags.epochs\n",
    "        self.batch_interval = 0 #flags.batch_interval\n",
    "        self.emb_dropout = 0.2 #flags.emb_dropout\n",
    "        self.full_connect_dropout = 0 #flags.full_connect_dropout\n",
    "#         self.emb_dim = [int(e.strip()) for e in flags.emb_dim.strip().split(',')]\n",
    "        self.dense_input_len = 622\n",
    "#         self.load_only_singleCnt = flags.load_only_singleCnt\n",
    "        self.max_token = 312 #flags.vocab_size\n",
    "        self.embedding_dim = 128 #flags.gram_embedding_dim\n",
    "#         self.fix_wv_model = flags.fix_wv_model\n",
    "        self.filter_size = [64] #[int(hn.strip()) for hn in flags.filter_size.strip().split(',')]\n",
    "        self.kernel_size_list = [1, 2] #[int(kernel.strip()) for kernel in flags.kernel_size_list.strip().split(',')]\n",
    "        self.rnn_units = [128]\n",
    "        self.strides = [2]\n",
    "        self.rnn_input_dropout = 0\n",
    "        self.rnn_state_dropout = 0\n",
    "        self.max_len = MAX_LEN # flags.max_len\n",
    "#         self.lgb_boost_dnn = flags.lgb_boost_dnn\n",
    "        # self.max_title_len = flags.max_title_len\n",
    "        self.top_k = 1\n",
    "        \n",
    "        self.chunk_size = 40\n",
    "        self.chunk_len = 20\n",
    "#         self.scores = scores\n",
    "#         self.cat_max = cat_max\n",
    "#         self.emb_weight = emb_weight\n",
    "        self.model_type = 'CPOLS'\n",
    "#         self.model = self.Create_LAMP(max_len = self.max_len)\n",
    "        self.model = self.Create_CPOLS(self.max_len)\n",
    "\n",
    "    def ConvBlock(self, x, filter_size):\n",
    "        conc_list =[]\n",
    "        for kernel_size in self.kernel_size_list:\n",
    "            kernel_maps = Conv1D(filters = filter_size, kernel_size = kernel_size, activation = 'relu', \n",
    "                                 strides = 2, name = 'conv1d_' + '_'.join([str(filter_size), str(kernel_size)]))(x)\n",
    "            kernel_conc = self.pooling_blend(kernel_maps)\n",
    "            conc_list.append(kernel_conc)\n",
    "        if len(conc_list) > 1:\n",
    "            return Concatenate()(conc_list)\n",
    "        else:\n",
    "            return conc_list[0]\n",
    "    \n",
    "    def emb_layer(self, inp):\n",
    "        embedding = Embedding(self.max_token, self.embedding_dim, name = 'emb')\n",
    "        x = embedding(inp)\n",
    "        if self.emb_dropout > 0:\n",
    "            x = SpatialDropout1D(self.emb_dropout, name = 'spa_dropout')(x)\n",
    "        return x\n",
    "    \n",
    "    def LAMP_Module(self, x, filter_size = [], rnn_units = []):\n",
    "        cnn_list = []\n",
    "        rnn_list = []\n",
    "        for filter_size in filter_size:\n",
    "            if filter_size > 0:\n",
    "                conc = self.ConvBlock(x, filter_size)\n",
    "                cnn_list.append(conc)     \n",
    "        for rnn_unit in rnn_units:\n",
    "            if rnn_unit > 0:\n",
    "                rnn_maps = Bidirectional(LSTM(rnn_unit, return_sequences=True, \\\n",
    "                            dropout=self.rnn_input_dropout, recurrent_dropout=self.rnn_state_dropout))(x)\n",
    "#                 rnn_maps = Bidirectional(GRU(rnn_unit, return_sequences=True, \\\n",
    "#                         dropout=self.rnn_input_dropout, recurrent_dropout=self.rnn_state_dropout))(rnn_maps)\n",
    "                conc = self.pooling_blend(rnn_maps)\n",
    "                rnn_list.append(conc)\n",
    "\n",
    "        conc_list = cnn_list + rnn_list\n",
    "        if len(conc_list) == 1:\n",
    "            conc = Lambda(lambda x: x, name = 'RCNN_CONC')(conc_list)\n",
    "        else:\n",
    "            conc = Concatenate(name = 'RCNN_CONC')(conc_list)\n",
    "        \n",
    "#         return conc\n",
    "        # conc = self.pooling_blend(x)\n",
    "        if self.hidden_dim[0] > 0:\n",
    "            full_connect = self.full_connect_layer(conc)\n",
    "        else:\n",
    "            full_connect = conc\n",
    "        outp = Dense(6, activation=\"softmax\")(full_connect)\n",
    "        \n",
    "        return outp\n",
    "        \n",
    "    def Create_LAMP(self, max_len = 100, need_emb = True, emb_dim = 300):\n",
    "        \"\"\"\n",
    "        \"\"\"\n",
    "        inp = Input(shape=(max_len, ))\n",
    "        x = self.emb_layer(inp)\n",
    "        LAMP_out = self.LAMP_MOdule(x)\n",
    "\n",
    "        model = Model(inputs = inp, outputs = LAMP_out)\n",
    "#         print (model.summary())\n",
    "        model.compile(optimizer = \"adam\", loss = \"categorical_crossentropy\", metrics = [\"accuracy\"])\n",
    "        return model\n",
    "    \n",
    "    def chunk_conv(self):\n",
    "        pass\n",
    "        \n",
    "    def Create_CPOLS(self, max_len = 100):\n",
    "        \"\"\"\n",
    "        \"\"\"\n",
    "#         inp_list = []\n",
    "        inp = Input(shape=(max_len, ))\n",
    "#         inp = Reshape((self.chunk_size, -1))(inp)\n",
    "        x = self.emb_layer(inp)\n",
    "    \n",
    "        conc_list =[]\n",
    "        for kernel_size in self.kernel_size_list:\n",
    "            kernel_maps = Conv1D(filters = self.filter_size[0], kernel_size = kernel_size, activation = 'relu', \n",
    "                        strides = 2, name = 'conv1d_' + str(kernel_size), padding = 'same')(x)\n",
    "#             kernel_conc = self.pooling_blend(kernel_maps)\n",
    "            conc_list.append(kernel_maps)\n",
    "            \n",
    "        if len(conc_list) == 1:\n",
    "            conc = Lambda(lambda x: x, name = 'CNN_CONC')(conc_list)\n",
    "        else:\n",
    "            conc = Concatenate(name = 'CNN_CONC', axis = -1)(conc_list)\n",
    "            \n",
    "#         x = Conv1D(filters = self.filter_size[0], kernel_size = self.kernel_size_list[0], activation = 'relu', \n",
    "#                                  strides = self.strides[0], name = 'conv1d', padding='same')(x)\n",
    "        chunk_max = MaxPooling1D(pool_size=self.chunk_len, strides=None, padding='same')(conc)\n",
    "        chunk_avg = AveragePooling1D(pool_size=int(self.chunk_len), strides=None, padding='same')(conc)\n",
    "        chunk_out = Concatenate(name = 'CHUNC_CONC', axis = -1)([chunk_max, chunk_avg])\n",
    "        \n",
    "        LAMP_out = self.LAMP_Module(chunk_out, filter_size = [], rnn_units = self.rnn_units)\n",
    "\n",
    "#         dense_input = Input(shape=(self.dense_input_len,))\n",
    "#         dense_output = self.full_connect_layer(dense_input)\n",
    "    \n",
    "#         merge_out = Concatenate(name = 'Merge_CONC', axis = -1)([LAMP_out, dense_output])\n",
    "        \n",
    "#         if self.hidden_dim[0] > 0:\n",
    "#             full_connect = self.full_connect_layer(merge_out)\n",
    "#         else:\n",
    "#             full_connect = merge_out\n",
    "#         outp = Dense(6, activation=\"softmax\")(full_connect)\n",
    "        \n",
    "        model = Model(inputs = inp, outputs = LAMP_out)\n",
    "#         print (model.summary())\n",
    "        model.compile(optimizer = \"adam\", loss = \"categorical_crossentropy\", metrics = [\"accuracy\"])\n",
    "        return model\n",
    "\n",
    "    def CPOLS_Module(self, x):\n",
    "        \"\"\"\n",
    "        \"\"\"\n",
    "        x = self.emb_layer(x)\n",
    "    \n",
    "        conc_list =[]\n",
    "        for kernel_size in self.kernel_size_list:\n",
    "            kernel_maps = Conv1D(filters = self.filter_size[0], kernel_size = kernel_size, activation = 'relu', \n",
    "                        strides = 2, name = 'conv1d_' + str(kernel_size), padding = 'same')(x)\n",
    "#             kernel_conc = self.pooling_blend(kernel_maps)\n",
    "            conc_list.append(kernel_maps)\n",
    "            \n",
    "        if len(conc_list) == 1:\n",
    "            conc = Lambda(lambda x: x, name = 'CNN_CONC')(conc_list)\n",
    "        else:\n",
    "            conc = Concatenate(name = 'CNN_CONC', axis = -1)(conc_list)\n",
    "            \n",
    "#         x = Conv1D(filters = self.filter_size[0], kernel_size = self.kernel_size_list[0], activation = 'relu', \n",
    "#                                  strides = self.strides[0], name = 'conv1d', padding='same')(x)\n",
    "        chunk_max = MaxPooling1D(pool_size=self.chunk_len, strides=None, padding='same')(conc)\n",
    "        chunk_avg = AveragePooling1D(pool_size=int(self.chunk_len), strides=None, padding='same')(conc)\n",
    "        chunk_out = Concatenate(name = 'CHUNC_CONC', axis = -1)([chunk_max, chunk_avg])\n",
    "        \n",
    "        LAMP_out = self.LAMP_Module(chunk_out, filter_size = [], rnn_units = self.rnn_units)\n",
    "        \n",
    "        return LAMP_out\n",
    "    \n",
    "    def Create_Multi_CPOLS(self, max_len = 100):\n",
    "        \"\"\"\n",
    "        \"\"\"\n",
    "        inp_list = []\n",
    "        CPOLS_out_list =[]\n",
    "        CPOLS = self.Create_CPOLS(max_len = MAX_TID_LEN)\n",
    "        CPOLS_module = Model(inputs = CPOLS.inputs, outputs = CPOLS.get_layer(name = 'RCNN_CONC').output)\n",
    "        for i in range(MAX_TID_NUM):\n",
    "            inp = Input(shape=(MAX_TID_LEN, ))\n",
    "    #         inp = Reshape((self.chunk_size, -1))(inp)\n",
    "#             CPOLS_out = self.CPOLS_Module(inp)\n",
    "            CPOLS_out = CPOLS_module(inp)\n",
    "            inp_list.append(inp)\n",
    "            CPOLS_out_list.append(Reshape((1, -1))(CPOLS_out))\n",
    "        \n",
    "        conc = Concatenate(name = 'CPOLS_CONC', axis = 1)(CPOLS_out_list)\n",
    "# #         flat = Flatten()(conc)\n",
    "        pooling_conc = self.pooling_blend(conc)\n",
    "        if self.hidden_dim[0] > 0:\n",
    "            full_connect = self.full_connect_layer(pooling_conc)\n",
    "        else:\n",
    "            full_connect = pooling_conc\n",
    "        outp = Dense(6, activation=\"softmax\")(full_connect)\n",
    "#         outp = Dense(6, activation=\"softmax\")(pooling_conc)\n",
    "\n",
    "        model = Model(inputs = inp_list, outputs = outp)\n",
    "#         print (model.summary())\n",
    "        model.compile(optimizer = \"adam\", loss = \"categorical_crossentropy\", metrics = [\"accuracy\"])\n",
    "        return model\n",
    "    \n",
    "    def act_blend(self, linear_input):\n",
    "        full_conv_selu = Activation('selu')(linear_input)\n",
    "        full_conv_relu = Activation('relu')(linear_input)\n",
    "        # return full_conv_relu\n",
    "        full_conv_sigmoid = Activation('sigmoid')(linear_input)\n",
    "        full_conv_tanh = Activation('tanh')(linear_input)\n",
    "        full_conv = Concatenate()([full_conv_sigmoid, full_conv_relu, full_conv_selu])\n",
    "        return full_conv\n",
    "\n",
    "\n",
    "    def full_connect_layer(self, input):\n",
    "        full_connect = input\n",
    "        for hn in self.hidden_dim:\n",
    "            fc_in = full_connect\n",
    "            if self.full_connect_dropout > 0:\n",
    "                full_connect = Dropout(self.full_connect_dropout, name = 'fc_dropout_' + str(hn))(full_connect)\n",
    "            # full_connect = BatchNormalization()(full_connect)\n",
    "            # full_connect = Dense(hn, kernel_regularizer = l2(0.001), activity_regularizer = l1(0.001))(full_connect)\n",
    "#             full_connect = Concatenate()([Dense(hn, kernel_initializer='lecun_uniform', activation = 'relu')(full_connect), \n",
    "#                 Dense(hn, kernel_initializer='lecun_uniform', activation = 'sigmoid')(full_connect)])\n",
    "            full_connect = Dense(hn, kernel_initializer='lecun_uniform', activation = 'relu', \n",
    "                                 name = 'fc_' + str(hn))(full_connect)\n",
    "            # full_connect = self.act_blend(full_connect)\n",
    "            # if self.full_connect_dropout > 0:\n",
    "            #     full_connect = Dropout(self.full_connect_dropout)(full_connect) #Dropout(self.full_connect_dropout)(full_connect)\n",
    "#             full_connect = Concatenate()([fc_in, full_connect])\n",
    "        return full_connect\n",
    "\n",
    "    def DNN_DataSet(self, data, sparse = True, dense = True):\n",
    "        \"\"\"\n",
    "        input shape: batch * n_feature\n",
    "        output shape: batch * [sparse0, spare1, ..., sparsen, dense_features]\n",
    "        \"\"\"\n",
    "        data_array = data\n",
    "#         if self.model_type == 'CPOLS':\n",
    "#             return list(data_array.transpose((1, 0, 2)))\n",
    "        return data_array\n",
    "        \n",
    "    def train(self, train_part, train_part_label, valide_part, valide_part_label):\n",
    "        \"\"\"\n",
    "        Keras Training\n",
    "        \"\"\"\n",
    "        print(\"-----DNN training-----\")\n",
    "\n",
    "        DNN_Train_Data = self.DNN_DataSet(train_part, sparse = False, dense = True)\n",
    "        DNN_Valide_Data = self.DNN_DataSet(valide_part, sparse = False, dense = True)\n",
    "        callbacks = [\n",
    "                EarlyStopping(monitor='val_loss', patience=3, verbose=0),\n",
    "            MutiLoglossEvaluation(validation_data=(DNN_Valide_Data, valide_part_label), interval=1)\n",
    "                ]\n",
    "\n",
    "        self.model.fit(DNN_Train_Data, train_part_label, batch_size=self.batch_size, epochs=self.epochs,\n",
    "                    shuffle=True, verbose=2,\n",
    "                    validation_data=(DNN_Valide_Data, valide_part_label)\n",
    "                    , callbacks=callbacks\n",
    "#                     , class_weight = {0:1.99, 1: 1., 2:1, 3:1, 4:1, 5:1}\n",
    "                    )\n",
    "        return self.model\n",
    "\n",
    "    def predict(self, test_part, batch_size = 1024, verbose=2):\n",
    "        \"\"\"\n",
    "        Keras Training\n",
    "        \"\"\"\n",
    "        print(\"-----DNN Test-----\")\n",
    "        pred = self.model.predict(self.DNN_DataSet(test_part, sparse = False, dense = True), verbose=verbose)\n",
    "        return pred\n",
    "\n",
    "    def pooling_blend(self, input):\n",
    "        avg_pool = GlobalAveragePooling1D()(input)\n",
    "        if self.top_k > 1:\n",
    "            max_pool = Lambda(self._top_k)(input)\n",
    "        else:\n",
    "            max_pool = GlobalMaxPooling1D()(input)\n",
    "        conc = Concatenate()([avg_pool, max_pool])\n",
    "        return conc\n",
    "\n",
    "    def create_dense_model(self):\n",
    "        \"\"\"\n",
    "        \"\"\"\n",
    "        dense_input = Input(shape=(self.dense_input_len,))\n",
    "        # drop_dense_input = Dropout(self.full_connect_dropout)(dense_input)\n",
    "#         norm_dense_input = BatchNormalization()(dense_input)\n",
    "        dense_output = self.full_connect_layer(dense_input)\n",
    "        proba = Dense(6, activation=\"softmax\")(dense_output)\n",
    "\n",
    "        model = Model(dense_input, proba) \n",
    "        model.compile(optimizer='adam', loss='categorical_crossentropy')\n",
    "\n",
    "        return model\n",
    "    \n",
    "    def create_rnn_model(self):\n",
    "        \"\"\"\n",
    "        \"\"\"\n",
    "        seq_input = Input(shape=(self.dense_input_len, 1))\n",
    "        seq_output = Input(shape=(self.dense_input_len, 1))\n",
    "        # norm_seq_input = BatchNormalization(name = 'Dense_BN_trainable')(seq_input)\n",
    "        rnn_out = Bidirectional(LSTM(self.rnn_units[0], return_sequences = True, activation = 'tanh'))(seq_input)\n",
    "#         rnn_out = Bidirectional(LSTM(self.rnn_units[1], return_sequences = True, activation = 'relu'))(rnn_out)\n",
    "#         seq_pred = TimeDistributed(Dense(self.hidden_dim[0], activation = 'relu'))(rnn_out)\n",
    "#         seq_pred = TimeDistributed(Dense(1, activation = 'relu'))(seq_pred)\n",
    "        # seq_pred = Dense(1, activation = 'relu')(rnn_out)\n",
    "        seq_pred = Reshape((self.dense_input_len,))(seq_pred)\n",
    "        seq_input_reshape = Reshape((self.dense_input_len,))(seq_input)\n",
    "\n",
    "        model = Model(seq_input, seq_pred)\n",
    "        loss = K.mean(mean_squared_error(seq_input_reshape[:, 1:], seq_pred[:, :-1]))\n",
    "        model.add_loss(loss)\n",
    "\n",
    "        # def _mean_squared_error(y_true, y_pred):\n",
    "        #     return K.mean(K.square(y_pred - y_true))\n",
    "        model.compile(optimizer='adam', loss = None) #_mean_squared_error)\n",
    "\n",
    "        return model\n",
    "    \n",
    "    "
   ]
  },
  {
   "cell_type": "code",
   "execution_count": 8,
   "metadata": {},
   "outputs": [
    {
     "name": "stdout",
     "output_type": "stream",
     "text": [
      "Epoch:  0\n"
     ]
    },
    {
     "name": "stderr",
     "output_type": "stream",
     "text": [
      "/usr/local/lib/python3.5/dist-packages/lightgbm/engine.py:104: UserWarning: Found `early_stopping_round` in params. Will use it instead of argument\n",
      "  warnings.warn(\"Found `{}` in params. Will use it instead of argument\".format(alias))\n"
     ]
    },
    {
     "ename": "LightGBMError",
     "evalue": "b'Label must be in [0, 6), but found -2147483648 in label'",
     "output_type": "error",
     "traceback": [
      "\u001b[0;31m---------------------------------------------------------------------------\u001b[0m",
      "\u001b[0;31mLightGBMError\u001b[0m                             Traceback (most recent call last)",
      "\u001b[0;32m<ipython-input-8-2428880115fc>\u001b[0m in \u001b[0;36m<module>\u001b[0;34m()\u001b[0m\n\u001b[1;32m     30\u001b[0m                     \u001b[0mvalid_sets\u001b[0m \u001b[0;34m=\u001b[0m \u001b[0;34m[\u001b[0m\u001b[0md_train\u001b[0m\u001b[0;34m,\u001b[0m \u001b[0md_valide\u001b[0m\u001b[0;34m]\u001b[0m\u001b[0;34m,\u001b[0m\u001b[0;34m\u001b[0m\u001b[0m\n\u001b[1;32m     31\u001b[0m                     \u001b[0mverbose_eval\u001b[0m\u001b[0;34m=\u001b[0m\u001b[0;36m200\u001b[0m\u001b[0;34m,\u001b[0m\u001b[0;34m\u001b[0m\u001b[0m\n\u001b[0;32m---> 32\u001b[0;31m                      num_boost_round = 3000)\n\u001b[0m\u001b[1;32m     33\u001b[0m \u001b[0;31m# d_train = lgb.Dataset(train_features, label=labels, feature_name = FEATURE_LIST)\u001b[0m\u001b[0;34m\u001b[0m\u001b[0;34m\u001b[0m\u001b[0m\n\u001b[1;32m     34\u001b[0m \u001b[0;31m# cv_result = lgb.cv(params, d_train, nfold=folds)\u001b[0m\u001b[0;34m\u001b[0m\u001b[0;34m\u001b[0m\u001b[0m\n",
      "\u001b[0;32m/usr/local/lib/python3.5/dist-packages/lightgbm/engine.py\u001b[0m in \u001b[0;36mtrain\u001b[0;34m(params, train_set, num_boost_round, valid_sets, valid_names, fobj, feval, init_model, feature_name, categorical_feature, early_stopping_rounds, evals_result, verbose_eval, learning_rates, keep_training_booster, callbacks)\u001b[0m\n\u001b[1;32m    176\u001b[0m     \u001b[0;31m# construct booster\u001b[0m\u001b[0;34m\u001b[0m\u001b[0;34m\u001b[0m\u001b[0m\n\u001b[1;32m    177\u001b[0m     \u001b[0;32mtry\u001b[0m\u001b[0;34m:\u001b[0m\u001b[0;34m\u001b[0m\u001b[0m\n\u001b[0;32m--> 178\u001b[0;31m         \u001b[0mbooster\u001b[0m \u001b[0;34m=\u001b[0m \u001b[0mBooster\u001b[0m\u001b[0;34m(\u001b[0m\u001b[0mparams\u001b[0m\u001b[0;34m=\u001b[0m\u001b[0mparams\u001b[0m\u001b[0;34m,\u001b[0m \u001b[0mtrain_set\u001b[0m\u001b[0;34m=\u001b[0m\u001b[0mtrain_set\u001b[0m\u001b[0;34m)\u001b[0m\u001b[0;34m\u001b[0m\u001b[0m\n\u001b[0m\u001b[1;32m    179\u001b[0m         \u001b[0;32mif\u001b[0m \u001b[0mis_valid_contain_train\u001b[0m\u001b[0;34m:\u001b[0m\u001b[0;34m\u001b[0m\u001b[0m\n\u001b[1;32m    180\u001b[0m             \u001b[0mbooster\u001b[0m\u001b[0;34m.\u001b[0m\u001b[0mset_train_data_name\u001b[0m\u001b[0;34m(\u001b[0m\u001b[0mtrain_data_name\u001b[0m\u001b[0;34m)\u001b[0m\u001b[0;34m\u001b[0m\u001b[0m\n",
      "\u001b[0;32m/usr/local/lib/python3.5/dist-packages/lightgbm/basic.py\u001b[0m in \u001b[0;36m__init__\u001b[0;34m(self, params, train_set, model_file, silent)\u001b[0m\n\u001b[1;32m   1294\u001b[0m                 \u001b[0mtrain_set\u001b[0m\u001b[0;34m.\u001b[0m\u001b[0mconstruct\u001b[0m\u001b[0;34m(\u001b[0m\u001b[0;34m)\u001b[0m\u001b[0;34m.\u001b[0m\u001b[0mhandle\u001b[0m\u001b[0;34m,\u001b[0m\u001b[0;34m\u001b[0m\u001b[0m\n\u001b[1;32m   1295\u001b[0m                 \u001b[0mc_str\u001b[0m\u001b[0;34m(\u001b[0m\u001b[0mparams_str\u001b[0m\u001b[0;34m)\u001b[0m\u001b[0;34m,\u001b[0m\u001b[0;34m\u001b[0m\u001b[0m\n\u001b[0;32m-> 1296\u001b[0;31m                 ctypes.byref(self.handle)))\n\u001b[0m\u001b[1;32m   1297\u001b[0m             \u001b[0;31m# save reference to data\u001b[0m\u001b[0;34m\u001b[0m\u001b[0;34m\u001b[0m\u001b[0m\n\u001b[1;32m   1298\u001b[0m             \u001b[0mself\u001b[0m\u001b[0;34m.\u001b[0m\u001b[0mtrain_set\u001b[0m \u001b[0;34m=\u001b[0m \u001b[0mtrain_set\u001b[0m\u001b[0;34m\u001b[0m\u001b[0m\n",
      "\u001b[0;32m/usr/local/lib/python3.5/dist-packages/lightgbm/basic.py\u001b[0m in \u001b[0;36m_safe_call\u001b[0;34m(ret)\u001b[0m\n\u001b[1;32m     46\u001b[0m     \"\"\"\n\u001b[1;32m     47\u001b[0m     \u001b[0;32mif\u001b[0m \u001b[0mret\u001b[0m \u001b[0;34m!=\u001b[0m \u001b[0;36m0\u001b[0m\u001b[0;34m:\u001b[0m\u001b[0;34m\u001b[0m\u001b[0m\n\u001b[0;32m---> 48\u001b[0;31m         \u001b[0;32mraise\u001b[0m \u001b[0mLightGBMError\u001b[0m\u001b[0;34m(\u001b[0m\u001b[0m_LIB\u001b[0m\u001b[0;34m.\u001b[0m\u001b[0mLGBM_GetLastError\u001b[0m\u001b[0;34m(\u001b[0m\u001b[0;34m)\u001b[0m\u001b[0;34m)\u001b[0m\u001b[0;34m\u001b[0m\u001b[0m\n\u001b[0m\u001b[1;32m     49\u001b[0m \u001b[0;34m\u001b[0m\u001b[0m\n\u001b[1;32m     50\u001b[0m \u001b[0;34m\u001b[0m\u001b[0m\n",
      "\u001b[0;31mLightGBMError\u001b[0m: b'Label must be in [0, 6), but found -2147483648 in label'"
     ]
    }
   ],
   "source": [
    "for fold in range(folds):\n",
    "    print ('Epoch: ', fold)\n",
    "    x1, x2, y1, y2 = model_selection.train_test_split(train_features, train_labels, test_size=0.20, random_state=fold)\n",
    "    d_train = lgb.Dataset(x1, label=y1, feature_name = FEATURE_LIST)\n",
    "    d_valide = lgb.Dataset(x2, label=y2, feature_name = FEATURE_LIST)\n",
    "    model = lgb.train(params, \n",
    "                    d_train, \n",
    "                    valid_sets = [d_train, d_valide], \n",
    "                    verbose_eval=200,\n",
    "                     num_boost_round = 3000)\n",
    "# d_train = lgb.Dataset(train_features, label=labels, feature_name = FEATURE_LIST)\n",
    "# cv_result = lgb.cv(params, d_train, nfold=folds)"
   ]
  },
  {
   "cell_type": "code",
   "execution_count": 16,
   "metadata": {},
   "outputs": [
    {
     "data": {
      "text/plain": [
       "<lightgbm.basic.Booster at 0x7f572e4f0390>"
      ]
     },
     "execution_count": 16,
     "metadata": {},
     "output_type": "execute_result"
    }
   ],
   "source": [
    "re"
   ]
  },
  {
   "cell_type": "code",
   "execution_count": 20,
   "metadata": {},
   "outputs": [
    {
     "data": {
      "text/plain": [
       "<matplotlib.axes._subplots.AxesSubplot at 0x7fb0c72fa4a8>"
      ]
     },
     "execution_count": 20,
     "metadata": {},
     "output_type": "execute_result"
    },
    {
     "data": {
      "image/png": "[encoded data removed]",
      "text/plain": [
       "<Figure size 432x288 with 1 Axes>"
      ]
     },
     "metadata": {},
     "output_type": "display_data"
    }
   ],
   "source": [
    "lgb.plot_importance(model, max_num_features=10)"
   ]
  },
  {
   "cell_type": "code",
   "execution_count": 132,
   "metadata": {},
   "outputs": [],
   "source": [
    "x = np.random.randint(1, 10, (5, 2, 3))"
   ]
  },
  {
   "cell_type": "code",
   "execution_count": 133,
   "metadata": {},
   "outputs": [
    {
     "data": {
      "text/plain": [
       "array([[[5, 7, 3],\n",
       "        [8, 6, 5]],\n",
       "\n",
       "       [[1, 6, 1],\n",
       "        [9, 5, 5]],\n",
       "\n",
       "       [[5, 5, 6],\n",
       "        [5, 9, 5]],\n",
       "\n",
       "       [[6, 3, 2],\n",
       "        [1, 8, 3]],\n",
       "\n",
       "       [[8, 4, 3],\n",
       "        [7, 6, 7]]])"
      ]
     },
     "execution_count": 133,
     "metadata": {},
     "output_type": "execute_result"
    }
   ],
   "source": [
    "x"
   ]
  },
  {
   "cell_type": "code",
   "execution_count": 146,
   "metadata": {},
   "outputs": [
    {
     "data": {
      "text/plain": [
       "array([[[5, 7, 3],\n",
       "        [1, 6, 1],\n",
       "        [5, 5, 6],\n",
       "        [6, 3, 2],\n",
       "        [8, 4, 3]],\n",
       "\n",
       "       [[8, 6, 5],\n",
       "        [9, 5, 5],\n",
       "        [5, 9, 5],\n",
       "        [1, 8, 3],\n",
       "        [7, 6, 7]]])"
      ]
     },
     "execution_count": 146,
     "metadata": {},
     "output_type": "execute_result"
    }
   ],
   "source": [
    "x.transpose((1, 0, 2))"
   ]
  },
  {
   "cell_type": "code",
   "execution_count": 22,
   "metadata": {},
   "outputs": [],
   "source": [
    "# test_features, _ = gen_features_label(test)\n",
    "pred = model.predict(test_features, num_iteration=model.best_iteration)"
   ]
  },
  {
   "cell_type": "code",
   "execution_count": 23,
   "metadata": {},
   "outputs": [
    {
     "data": {
      "text/plain": [
       "array([[9.96555300e-01, 4.04215582e-05, 7.55648625e-05, 8.01647091e-05,\n",
       "        3.56849173e-05, 3.21286387e-03],\n",
       "       [9.95902625e-01, 3.75492340e-05, 1.54431965e-04, 6.76217157e-05,\n",
       "        3.45405949e-05, 3.80323188e-03],\n",
       "       [9.99841395e-01, 8.41698916e-06, 1.28843895e-05, 1.03568345e-05,\n",
       "        8.34423297e-06, 1.18602496e-04],\n",
       "       [9.97684460e-01, 2.20974162e-05, 3.68790240e-05, 2.84263724e-05,\n",
       "        2.17392436e-05, 2.20639763e-03],\n",
       "       [9.99849703e-01, 6.04791041e-06, 1.68053083e-05, 6.47096386e-06,\n",
       "        6.06002402e-06, 1.14913237e-04],\n",
       "       [9.99035261e-01, 1.99620514e-05, 1.16363473e-04, 2.91997336e-05,\n",
       "        2.37559043e-05, 7.75457986e-04],\n",
       "       [9.99530873e-01, 2.37156629e-05, 9.53748090e-05, 2.01221386e-05,\n",
       "        1.42579991e-05, 3.15656393e-04],\n",
       "       [9.99875751e-01, 6.29873128e-06, 1.35111854e-05, 8.67573234e-06,\n",
       "        6.26198879e-06, 8.95009604e-05],\n",
       "       [9.99203937e-01, 1.85263935e-05, 5.25523501e-05, 2.86321709e-05,\n",
       "        1.68223114e-05, 6.79530246e-04],\n",
       "       [9.98425536e-01, 4.27027173e-05, 8.74449350e-04, 8.10747568e-05,\n",
       "        4.23523789e-05, 5.33884727e-04]])"
      ]
     },
     "execution_count": 23,
     "metadata": {},
     "output_type": "execute_result"
    }
   ],
   "source": [
    "pred[:10]"
   ]
  },
  {
   "cell_type": "code",
   "execution_count": 24,
   "metadata": {},
   "outputs": [],
   "source": []
  },
  {
   "cell_type": "code",
   "execution_count": 48,
   "metadata": {},
   "outputs": [
    {
     "data": {
      "text/plain": [
       "[<matplotlib.lines.Line2D at 0x7fb52ed55e48>]"
      ]
     },
     "execution_count": 48,
     "metadata": {},
     "output_type": "execute_result"
    },
    {
     "data": {
      "image/png": "[encoded data removed]",
      "text/plain": [
       "<Figure size 432x288 with 1 Axes>"
      ]
     },
     "metadata": {},
     "output_type": "display_data"
    }
   ],
   "source": [
    "\n",
    "plt.plot(api_counts[5], 'ro')"
   ]
  },
  {
   "cell_type": "code",
   "execution_count": 3,
   "metadata": {},
   "outputs": [
    {
     "data": {
      "text/html": [
       "<div>\n",
       "<style scoped>\n",
       "    .dataframe tbody tr th:only-of-type {\n",
       "        vertical-align: middle;\n",
       "    }\n",
       "\n",
       "    .dataframe tbody tr th {\n",
       "        vertical-align: top;\n",
       "    }\n",
       "\n",
       "    .dataframe thead th {\n",
       "        text-align: right;\n",
       "    }\n",
       "</style>\n",
       "<table border=\"1\" class=\"dataframe\">\n",
       "  <thead>\n",
       "    <tr style=\"text-align: right;\">\n",
       "      <th></th>\n",
       "      <th>api</th>\n",
       "      <th>id</th>\n",
       "    </tr>\n",
       "  </thead>\n",
       "  <tbody>\n",
       "    <tr>\n",
       "      <th>0</th>\n",
       "      <td>GetSystemTimeAsFileTime</td>\n",
       "      <td>1</td>\n",
       "    </tr>\n",
       "    <tr>\n",
       "      <th>1</th>\n",
       "      <td>NtAllocateVirtualMemory</td>\n",
       "      <td>2</td>\n",
       "    </tr>\n",
       "    <tr>\n",
       "      <th>2</th>\n",
       "      <td>NtFreeVirtualMemory</td>\n",
       "      <td>3</td>\n",
       "    </tr>\n",
       "    <tr>\n",
       "      <th>3</th>\n",
       "      <td>SetUnhandledExceptionFilter</td>\n",
       "      <td>4</td>\n",
       "    </tr>\n",
       "    <tr>\n",
       "      <th>4</th>\n",
       "      <td>LdrLoadDll</td>\n",
       "      <td>5</td>\n",
       "    </tr>\n",
       "    <tr>\n",
       "      <th>5</th>\n",
       "      <td>LdrGetProcedureAddress</td>\n",
       "      <td>6</td>\n",
       "    </tr>\n",
       "    <tr>\n",
       "      <th>6</th>\n",
       "      <td>LdrUnloadDll</td>\n",
       "      <td>7</td>\n",
       "    </tr>\n",
       "    <tr>\n",
       "      <th>7</th>\n",
       "      <td>NtCreateMutant</td>\n",
       "      <td>8</td>\n",
       "    </tr>\n",
       "    <tr>\n",
       "      <th>8</th>\n",
       "      <td>NtCreateSection</td>\n",
       "      <td>9</td>\n",
       "    </tr>\n",
       "    <tr>\n",
       "      <th>9</th>\n",
       "      <td>NtMapViewOfSection</td>\n",
       "      <td>10</td>\n",
       "    </tr>\n",
       "    <tr>\n",
       "      <th>10</th>\n",
       "      <td>CoInitializeEx</td>\n",
       "      <td>11</td>\n",
       "    </tr>\n",
       "    <tr>\n",
       "      <th>11</th>\n",
       "      <td>RegOpenKeyExW</td>\n",
       "      <td>12</td>\n",
       "    </tr>\n",
       "    <tr>\n",
       "      <th>12</th>\n",
       "      <td>CoUninitialize</td>\n",
       "      <td>13</td>\n",
       "    </tr>\n",
       "    <tr>\n",
       "      <th>13</th>\n",
       "      <td>NtUnmapViewOfSection</td>\n",
       "      <td>14</td>\n",
       "    </tr>\n",
       "    <tr>\n",
       "      <th>14</th>\n",
       "      <td>NtClose</td>\n",
       "      <td>15</td>\n",
       "    </tr>\n",
       "    <tr>\n",
       "      <th>15</th>\n",
       "      <td>LdrGetDllHandle</td>\n",
       "      <td>16</td>\n",
       "    </tr>\n",
       "    <tr>\n",
       "      <th>16</th>\n",
       "      <td>NtTerminateProcess</td>\n",
       "      <td>17</td>\n",
       "    </tr>\n",
       "    <tr>\n",
       "      <th>17</th>\n",
       "      <td>NtOpenKey</td>\n",
       "      <td>18</td>\n",
       "    </tr>\n",
       "    <tr>\n",
       "      <th>18</th>\n",
       "      <td>NtQueryValueKey</td>\n",
       "      <td>19</td>\n",
       "    </tr>\n",
       "    <tr>\n",
       "      <th>19</th>\n",
       "      <td>__exception__</td>\n",
       "      <td>20</td>\n",
       "    </tr>\n",
       "    <tr>\n",
       "      <th>20</th>\n",
       "      <td>SetErrorMode</td>\n",
       "      <td>21</td>\n",
       "    </tr>\n",
       "    <tr>\n",
       "      <th>21</th>\n",
       "      <td>RegQueryValueExW</td>\n",
       "      <td>22</td>\n",
       "    </tr>\n",
       "    <tr>\n",
       "      <th>22</th>\n",
       "      <td>RegCloseKey</td>\n",
       "      <td>23</td>\n",
       "    </tr>\n",
       "    <tr>\n",
       "      <th>23</th>\n",
       "      <td>NtCreateFile</td>\n",
       "      <td>24</td>\n",
       "    </tr>\n",
       "    <tr>\n",
       "      <th>24</th>\n",
       "      <td>NtWriteFile</td>\n",
       "      <td>25</td>\n",
       "    </tr>\n",
       "    <tr>\n",
       "      <th>25</th>\n",
       "      <td>CreateProcessInternalW</td>\n",
       "      <td>26</td>\n",
       "    </tr>\n",
       "    <tr>\n",
       "      <th>26</th>\n",
       "      <td>NtProtectVirtualMemory</td>\n",
       "      <td>27</td>\n",
       "    </tr>\n",
       "    <tr>\n",
       "      <th>27</th>\n",
       "      <td>RegOpenKeyExA</td>\n",
       "      <td>28</td>\n",
       "    </tr>\n",
       "    <tr>\n",
       "      <th>28</th>\n",
       "      <td>NtQueryAttributesFile</td>\n",
       "      <td>29</td>\n",
       "    </tr>\n",
       "    <tr>\n",
       "      <th>29</th>\n",
       "      <td>LoadStringA</td>\n",
       "      <td>30</td>\n",
       "    </tr>\n",
       "    <tr>\n",
       "      <th>...</th>\n",
       "      <td>...</td>\n",
       "      <td>...</td>\n",
       "    </tr>\n",
       "    <tr>\n",
       "      <th>281</th>\n",
       "      <td>WSARecvFrom</td>\n",
       "      <td>282</td>\n",
       "    </tr>\n",
       "    <tr>\n",
       "      <th>282</th>\n",
       "      <td>WSASendTo</td>\n",
       "      <td>283</td>\n",
       "    </tr>\n",
       "    <tr>\n",
       "      <th>283</th>\n",
       "      <td>NtLoadKey</td>\n",
       "      <td>284</td>\n",
       "    </tr>\n",
       "    <tr>\n",
       "      <th>284</th>\n",
       "      <td>NtLoadDriver</td>\n",
       "      <td>285</td>\n",
       "    </tr>\n",
       "    <tr>\n",
       "      <th>285</th>\n",
       "      <td>DeleteUrlCacheEntryA</td>\n",
       "      <td>286</td>\n",
       "    </tr>\n",
       "    <tr>\n",
       "      <th>286</th>\n",
       "      <td>GetInterfaceInfo</td>\n",
       "      <td>287</td>\n",
       "    </tr>\n",
       "    <tr>\n",
       "      <th>287</th>\n",
       "      <td>NtWriteVirtualMemory</td>\n",
       "      <td>288</td>\n",
       "    </tr>\n",
       "    <tr>\n",
       "      <th>288</th>\n",
       "      <td>RtlCompressBuffer</td>\n",
       "      <td>289</td>\n",
       "    </tr>\n",
       "    <tr>\n",
       "      <th>289</th>\n",
       "      <td>NtShutdownSystem</td>\n",
       "      <td>290</td>\n",
       "    </tr>\n",
       "    <tr>\n",
       "      <th>290</th>\n",
       "      <td>TaskDialog</td>\n",
       "      <td>291</td>\n",
       "    </tr>\n",
       "    <tr>\n",
       "      <th>291</th>\n",
       "      <td>NtDeleteFile</td>\n",
       "      <td>292</td>\n",
       "    </tr>\n",
       "    <tr>\n",
       "      <th>292</th>\n",
       "      <td>InternetGetConnectedStateExW</td>\n",
       "      <td>293</td>\n",
       "    </tr>\n",
       "    <tr>\n",
       "      <th>293</th>\n",
       "      <td>CryptUnprotectData</td>\n",
       "      <td>294</td>\n",
       "    </tr>\n",
       "    <tr>\n",
       "      <th>294</th>\n",
       "      <td>InternetGetConnectedStateExA</td>\n",
       "      <td>295</td>\n",
       "    </tr>\n",
       "    <tr>\n",
       "      <th>295</th>\n",
       "      <td>NtSaveKeyEx</td>\n",
       "      <td>296</td>\n",
       "    </tr>\n",
       "    <tr>\n",
       "      <th>296</th>\n",
       "      <td>NtSaveKey</td>\n",
       "      <td>297</td>\n",
       "    </tr>\n",
       "    <tr>\n",
       "      <th>297</th>\n",
       "      <td>CertOpenSystemStoreA</td>\n",
       "      <td>298</td>\n",
       "    </tr>\n",
       "    <tr>\n",
       "      <th>298</th>\n",
       "      <td>PRF</td>\n",
       "      <td>299</td>\n",
       "    </tr>\n",
       "    <tr>\n",
       "      <th>299</th>\n",
       "      <td>ExitWindowsEx</td>\n",
       "      <td>300</td>\n",
       "    </tr>\n",
       "    <tr>\n",
       "      <th>300</th>\n",
       "      <td>WSAAccept</td>\n",
       "      <td>301</td>\n",
       "    </tr>\n",
       "    <tr>\n",
       "      <th>301</th>\n",
       "      <td>CreateRemoteThreadEx</td>\n",
       "      <td>302</td>\n",
       "    </tr>\n",
       "    <tr>\n",
       "      <th>302</th>\n",
       "      <td>CertOpenSystemStoreW</td>\n",
       "      <td>303</td>\n",
       "    </tr>\n",
       "    <tr>\n",
       "      <th>303</th>\n",
       "      <td>NtUnloadDriver</td>\n",
       "      <td>304</td>\n",
       "    </tr>\n",
       "    <tr>\n",
       "      <th>304</th>\n",
       "      <td>NtCreateThread</td>\n",
       "      <td>305</td>\n",
       "    </tr>\n",
       "    <tr>\n",
       "      <th>305</th>\n",
       "      <td>NtLoadKeyEx</td>\n",
       "      <td>306</td>\n",
       "    </tr>\n",
       "    <tr>\n",
       "      <th>306</th>\n",
       "      <td>InternetWriteFile</td>\n",
       "      <td>307</td>\n",
       "    </tr>\n",
       "    <tr>\n",
       "      <th>307</th>\n",
       "      <td>RtlDecompressBuffer</td>\n",
       "      <td>308</td>\n",
       "    </tr>\n",
       "    <tr>\n",
       "      <th>308</th>\n",
       "      <td>EncryptMessage</td>\n",
       "      <td>309</td>\n",
       "    </tr>\n",
       "    <tr>\n",
       "      <th>309</th>\n",
       "      <td>NtLoadKey2</td>\n",
       "      <td>310</td>\n",
       "    </tr>\n",
       "    <tr>\n",
       "      <th>310</th>\n",
       "      <td>WNetGetProviderNameW</td>\n",
       "      <td>311</td>\n",
       "    </tr>\n",
       "  </tbody>\n",
       "</table>\n",
       "<p>311 rows × 2 columns</p>\n",
       "</div>"
      ],
      "text/plain": [
       "                              api   id\n",
       "0         GetSystemTimeAsFileTime    1\n",
       "1         NtAllocateVirtualMemory    2\n",
       "2             NtFreeVirtualMemory    3\n",
       "3     SetUnhandledExceptionFilter    4\n",
       "4                      LdrLoadDll    5\n",
       "5          LdrGetProcedureAddress    6\n",
       "6                    LdrUnloadDll    7\n",
       "7                  NtCreateMutant    8\n",
       "8                 NtCreateSection    9\n",
       "9              NtMapViewOfSection   10\n",
       "10                 CoInitializeEx   11\n",
       "11                  RegOpenKeyExW   12\n",
       "12                 CoUninitialize   13\n",
       "13           NtUnmapViewOfSection   14\n",
       "14                        NtClose   15\n",
       "15                LdrGetDllHandle   16\n",
       "16             NtTerminateProcess   17\n",
       "17                      NtOpenKey   18\n",
       "18                NtQueryValueKey   19\n",
       "19                  __exception__   20\n",
       "20                   SetErrorMode   21\n",
       "21               RegQueryValueExW   22\n",
       "22                    RegCloseKey   23\n",
       "23                   NtCreateFile   24\n",
       "24                    NtWriteFile   25\n",
       "25         CreateProcessInternalW   26\n",
       "26         NtProtectVirtualMemory   27\n",
       "27                  RegOpenKeyExA   28\n",
       "28          NtQueryAttributesFile   29\n",
       "29                    LoadStringA   30\n",
       "..                            ...  ...\n",
       "281                   WSARecvFrom  282\n",
       "282                     WSASendTo  283\n",
       "283                     NtLoadKey  284\n",
       "284                  NtLoadDriver  285\n",
       "285          DeleteUrlCacheEntryA  286\n",
       "286              GetInterfaceInfo  287\n",
       "287          NtWriteVirtualMemory  288\n",
       "288             RtlCompressBuffer  289\n",
       "289              NtShutdownSystem  290\n",
       "290                    TaskDialog  291\n",
       "291                  NtDeleteFile  292\n",
       "292  InternetGetConnectedStateExW  293\n",
       "293            CryptUnprotectData  294\n",
       "294  InternetGetConnectedStateExA  295\n",
       "295                   NtSaveKeyEx  296\n",
       "296                     NtSaveKey  297\n",
       "297          CertOpenSystemStoreA  298\n",
       "298                           PRF  299\n",
       "299                 ExitWindowsEx  300\n",
       "300                     WSAAccept  301\n",
       "301          CreateRemoteThreadEx  302\n",
       "302          CertOpenSystemStoreW  303\n",
       "303                NtUnloadDriver  304\n",
       "304                NtCreateThread  305\n",
       "305                   NtLoadKeyEx  306\n",
       "306             InternetWriteFile  307\n",
       "307           RtlDecompressBuffer  308\n",
       "308                EncryptMessage  309\n",
       "309                    NtLoadKey2  310\n",
       "310          WNetGetProviderNameW  311\n",
       "\n",
       "[311 rows x 2 columns]"
      ]
     },
     "execution_count": 3,
     "metadata": {},
     "output_type": "execute_result"
    }
   ],
   "source": [
    "apis"
   ]
  }
 ],
 "metadata": {
  "kernelspec": {
   "display_name": "Python 3",
   "language": "python",
   "name": "python3"
  },
  "language_info": {
   "codemirror_mode": {
    "name": "ipython",
    "version": 3
   },
   "file_extension": ".py",
   "mimetype": "text/x-python",
   "name": "python",
   "nbconvert_exporter": "python",
   "pygments_lexer": "ipython3",
   "version": "3.5.2"
  }
 },
 "nbformat": 4,
 "nbformat_minor": 2
}
